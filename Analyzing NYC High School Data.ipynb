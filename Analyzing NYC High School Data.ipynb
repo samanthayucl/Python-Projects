{
 "cells": [
  {
   "cell_type": "markdown",
   "metadata": {},
   "source": [
    "# Relationships between SAT scores and demographic factors in New York City public schools"
   ]
  },
  {
   "cell_type": "markdown",
   "metadata": {},
   "source": [
    "The SAT, or Scholastic Aptitude Test, is a test that high school seniors in the U.S. take every year. The SAT has three sections, each of which is worth a maximum of 800 points. Colleges use the SAT to determine which students to admit. High average SAT scores are usually indicative of a good school."
   ]
  },
  {
   "cell_type": "markdown",
   "metadata": {},
   "source": [
    "New York City has published data on student SAT scores by high school (reference: https://data.cityofnewyork.us/Education/SAT-Results/f9bf-2cp4), along with additional demographic data sets. The following data sets are used in this project:\n",
    "\n",
    "1. SAT scores by school - SAT scores for each high school in New York City\n",
    "2. School attendance - Attendance information for each school in New York City\n",
    "3. Class size - Information on class size for each school\n",
    "4. AP test results - Advanced Placement (AP) exam results for each high school (passing an optional AP exam in a particular subject can earn a student college credit in that subject)\n",
    "5. Graduation outcomes - The percentage of students who graduated, and other outcome information\n",
    "6. Demographics - Demographic information for each school\n",
    "7. School survey - Surveys of parents, teachers, and students at each school"
   ]
  },
  {
   "cell_type": "markdown",
   "metadata": {},
   "source": [
    "The data sets are combined as follows for analysis:"
   ]
  },
  {
   "cell_type": "markdown",
   "metadata": {},
   "source": [
    "## 1. Data Set Cleaning"
   ]
  },
  {
   "cell_type": "markdown",
   "metadata": {},
   "source": [
    "#### 1.1 Read in the data"
   ]
  },
  {
   "cell_type": "code",
   "execution_count": 17,
   "metadata": {
    "collapsed": true
   },
   "outputs": [],
   "source": [
    "import pandas as pd\n",
    "import numpy as np\n",
    "import re\n",
    "\n",
    "data_files = [\n",
    "    \"ap_2010.csv\",\n",
    "    \"class_size.csv\",\n",
    "    \"demographics.csv\",\n",
    "    \"graduation.csv\",\n",
    "    \"hs_directory.csv\",\n",
    "    \"sat_results.csv\"\n",
    "]\n",
    "\n",
    "data = {}\n",
    "\n",
    "for f in data_files:\n",
    "    d = pd.read_csv(\"schools/{0}\".format(f))\n",
    "    data[f.replace(\".csv\", \"\")] = d"
   ]
  },
  {
   "cell_type": "markdown",
   "metadata": {},
   "source": [
    "#### 1.2 Read in the surveys"
   ]
  },
  {
   "cell_type": "code",
   "execution_count": 3,
   "metadata": {
    "collapsed": true
   },
   "outputs": [],
   "source": [
    "all_survey = pd.read_csv(\"schools/survey_all.txt\", delimiter=\"\\t\", encoding='windows-1252')\n",
    "d75_survey = pd.read_csv(\"schools/survey_d75.txt\", delimiter=\"\\t\", encoding='windows-1252')\n",
    "survey = pd.concat([all_survey, d75_survey], axis=0)\n",
    "\n",
    "survey[\"DBN\"] = survey[\"dbn\"]\n",
    "\n",
    "survey_fields = [\n",
    "    \"DBN\", \n",
    "    \"rr_s\", \n",
    "    \"rr_t\", \n",
    "    \"rr_p\", \n",
    "    \"N_s\", \n",
    "    \"N_t\", \n",
    "    \"N_p\", \n",
    "    \"saf_p_11\", \n",
    "    \"com_p_11\", \n",
    "    \"eng_p_11\", \n",
    "    \"aca_p_11\", \n",
    "    \"saf_t_11\", \n",
    "    \"com_t_11\", \n",
    "    \"eng_t_11\", \n",
    "    \"aca_t_11\", \n",
    "    \"saf_s_11\", \n",
    "    \"com_s_11\", \n",
    "    \"eng_s_11\", \n",
    "    \"aca_s_11\", \n",
    "    \"saf_tot_11\", \n",
    "    \"com_tot_11\", \n",
    "    \"eng_tot_11\", \n",
    "    \"aca_tot_11\",\n",
    "]\n",
    "survey = survey.loc[:,survey_fields]\n",
    "data[\"survey\"] = survey"
   ]
  },
  {
   "cell_type": "markdown",
   "metadata": {},
   "source": [
    "#### 1.3 Add DBN columns"
   ]
  },
  {
   "cell_type": "code",
   "execution_count": 4,
   "metadata": {
    "collapsed": true
   },
   "outputs": [],
   "source": [
    "data[\"hs_directory\"][\"DBN\"] = data[\"hs_directory\"][\"dbn\"]\n",
    "\n",
    "def pad_csd(num):\n",
    "    string_representation = str(num)\n",
    "    if len(string_representation) > 1:\n",
    "        return string_representation\n",
    "    else:\n",
    "        return \"0\" + string_representation\n",
    "    \n",
    "data[\"class_size\"][\"padded_csd\"] = data[\"class_size\"][\"CSD\"].apply(pad_csd)\n",
    "data[\"class_size\"][\"DBN\"] = data[\"class_size\"][\"padded_csd\"] + data[\"class_size\"][\"SCHOOL CODE\"]"
   ]
  },
  {
   "cell_type": "markdown",
   "metadata": {},
   "source": [
    "#### 1.4 Convert columns to numeric"
   ]
  },
  {
   "cell_type": "code",
   "execution_count": 5,
   "metadata": {
    "collapsed": true
   },
   "outputs": [],
   "source": [
    "cols = ['SAT Math Avg. Score', 'SAT Critical Reading Avg. Score', 'SAT Writing Avg. Score']\n",
    "for c in cols:\n",
    "    data[\"sat_results\"][c] = pd.to_numeric(data[\"sat_results\"][c], errors=\"coerce\")\n",
    "\n",
    "data['sat_results']['sat_score'] = data['sat_results'][cols[0]] + data['sat_results'][cols[1]] + data['sat_results'][cols[2]]\n",
    "\n",
    "def find_lat(loc):\n",
    "    coords = re.findall(\"\\(.+, .+\\)\", loc)\n",
    "    lat = coords[0].split(\",\")[0].replace(\"(\", \"\")\n",
    "    return lat\n",
    "\n",
    "def find_lon(loc):\n",
    "    coords = re.findall(\"\\(.+, .+\\)\", loc)\n",
    "    lon = coords[0].split(\",\")[1].replace(\")\", \"\").strip()\n",
    "    return lon\n",
    "\n",
    "data[\"hs_directory\"][\"lat\"] = data[\"hs_directory\"][\"Location 1\"].apply(find_lat)\n",
    "data[\"hs_directory\"][\"lon\"] = data[\"hs_directory\"][\"Location 1\"].apply(find_lon)\n",
    "\n",
    "data[\"hs_directory\"][\"lat\"] = pd.to_numeric(data[\"hs_directory\"][\"lat\"], errors=\"coerce\")\n",
    "data[\"hs_directory\"][\"lon\"] = pd.to_numeric(data[\"hs_directory\"][\"lon\"], errors=\"coerce\")"
   ]
  },
  {
   "cell_type": "markdown",
   "metadata": {},
   "source": [
    "#### 1.5 Condense datasets"
   ]
  },
  {
   "cell_type": "code",
   "execution_count": 6,
   "metadata": {
    "collapsed": true
   },
   "outputs": [],
   "source": [
    "class_size = data[\"class_size\"]\n",
    "class_size = class_size[class_size[\"GRADE \"] == \"09-12\"]\n",
    "class_size = class_size[class_size[\"PROGRAM TYPE\"] == \"GEN ED\"]\n",
    "\n",
    "class_size = class_size.groupby(\"DBN\").agg(numpy.mean)\n",
    "class_size.reset_index(inplace=True)\n",
    "data[\"class_size\"] = class_size\n",
    "\n",
    "data[\"demographics\"] = data[\"demographics\"][data[\"demographics\"][\"schoolyear\"] == 20112012]\n",
    "\n",
    "data[\"graduation\"] = data[\"graduation\"][data[\"graduation\"][\"Cohort\"] == \"2006\"]\n",
    "data[\"graduation\"] = data[\"graduation\"][data[\"graduation\"][\"Demographic\"] == \"Total Cohort\"]"
   ]
  },
  {
   "cell_type": "markdown",
   "metadata": {},
   "source": [
    "#### 1.6 Convert AP scores to numeric"
   ]
  },
  {
   "cell_type": "code",
   "execution_count": 7,
   "metadata": {
    "collapsed": true
   },
   "outputs": [],
   "source": [
    "cols = ['AP Test Takers ', 'Total Exams Taken', 'Number of Exams with scores 3 4 or 5']\n",
    "\n",
    "for col in cols:\n",
    "    data[\"ap_2010\"][col] = pd.to_numeric(data[\"ap_2010\"][col], errors=\"coerce\")"
   ]
  },
  {
   "cell_type": "markdown",
   "metadata": {},
   "source": [
    "#### 1.7 Combine the datasets"
   ]
  },
  {
   "cell_type": "code",
   "execution_count": 8,
   "metadata": {
    "collapsed": true
   },
   "outputs": [],
   "source": [
    "combined = data[\"sat_results\"]\n",
    "\n",
    "combined = combined.merge(data[\"ap_2010\"], on=\"DBN\", how=\"left\")\n",
    "combined = combined.merge(data[\"graduation\"], on=\"DBN\", how=\"left\")\n",
    "\n",
    "to_merge = [\"class_size\", \"demographics\", \"survey\", \"hs_directory\"]\n",
    "\n",
    "for m in to_merge:\n",
    "    combined = combined.merge(data[m], on=\"DBN\", how=\"inner\")\n",
    "\n",
    "combined = combined.fillna(combined.mean())\n",
    "combined = combined.fillna(0)"
   ]
  },
  {
   "cell_type": "markdown",
   "metadata": {},
   "source": [
    "#### 1.8 Add a school district column for mapping"
   ]
  },
  {
   "cell_type": "code",
   "execution_count": 9,
   "metadata": {
    "collapsed": true
   },
   "outputs": [],
   "source": [
    "def get_two_characters(string):\n",
    "    return string[0:2]\n",
    "\n",
    "combined[\"school_dist\"] = combined[\"DBN\"].apply(get_two_characters)"
   ]
  },
  {
   "cell_type": "markdown",
   "metadata": {},
   "source": [
    "#### 1.9 Find correlations"
   ]
  },
  {
   "cell_type": "code",
   "execution_count": 10,
   "metadata": {
    "collapsed": false
   },
   "outputs": [
    {
     "name": "stdout",
     "output_type": "stream",
     "text": [
      "SAT Critical Reading Avg. Score         0.986820\n",
      "SAT Math Avg. Score                     0.972643\n",
      "SAT Writing Avg. Score                  0.987771\n",
      "sat_score                               1.000000\n",
      "AP Test Takers                          0.523140\n",
      "Total Exams Taken                       0.514333\n",
      "Number of Exams with scores 3 4 or 5    0.463245\n",
      "Total Cohort                            0.325144\n",
      "CSD                                     0.042948\n",
      "NUMBER OF STUDENTS / SEATS FILLED       0.394626\n",
      "NUMBER OF SECTIONS                      0.362673\n",
      "AVERAGE CLASS SIZE                      0.381014\n",
      "SIZE OF SMALLEST CLASS                  0.249949\n",
      "SIZE OF LARGEST CLASS                   0.314434\n",
      "SCHOOLWIDE PUPIL-TEACHER RATIO               NaN\n",
      "schoolyear                                   NaN\n",
      "fl_percent                                   NaN\n",
      "frl_percent                            -0.722225\n",
      "total_enrollment                        0.367857\n",
      "ell_num                                -0.153778\n",
      "ell_percent                            -0.398750\n",
      "sped_num                                0.034933\n",
      "sped_percent                           -0.448170\n",
      "asian_num                               0.475445\n",
      "asian_per                               0.570730\n",
      "black_num                               0.027979\n",
      "black_per                              -0.284139\n",
      "hispanic_num                            0.025744\n",
      "hispanic_per                           -0.396985\n",
      "white_num                               0.449559\n",
      "                                          ...   \n",
      "rr_p                                    0.047925\n",
      "N_s                                     0.423463\n",
      "N_t                                     0.291463\n",
      "N_p                                     0.421530\n",
      "saf_p_11                                0.122913\n",
      "com_p_11                               -0.115073\n",
      "eng_p_11                                0.020254\n",
      "aca_p_11                                0.035155\n",
      "saf_t_11                                0.313810\n",
      "com_t_11                                0.082419\n",
      "eng_t_11                                0.036906\n",
      "aca_t_11                                0.132348\n",
      "saf_s_11                                0.337639\n",
      "com_s_11                                0.187370\n",
      "eng_s_11                                0.213822\n",
      "aca_s_11                                0.339435\n",
      "saf_tot_11                              0.318753\n",
      "com_tot_11                              0.077310\n",
      "eng_tot_11                              0.100102\n",
      "aca_tot_11                              0.190966\n",
      "grade_span_max                               NaN\n",
      "expgrade_span_max                            NaN\n",
      "zip                                    -0.063977\n",
      "total_students                          0.407827\n",
      "number_programs                         0.117012\n",
      "priority08                                   NaN\n",
      "priority09                                   NaN\n",
      "priority10                                   NaN\n",
      "lat                                    -0.121029\n",
      "lon                                    -0.132222\n",
      "Name: sat_score, Length: 67, dtype: float64\n"
     ]
    }
   ],
   "source": [
    "correlations = combined.corr()\n",
    "correlations = correlations[\"sat_score\"]\n",
    "print(correlations)"
   ]
  },
  {
   "cell_type": "markdown",
   "metadata": {},
   "source": [
    "## 2. Survey correlations"
   ]
  },
  {
   "cell_type": "code",
   "execution_count": 11,
   "metadata": {
    "collapsed": true
   },
   "outputs": [],
   "source": [
    "# Remove DBN since it's a unique identifier, not a useful numerical value for correlation.\n",
    "survey_fields.remove(\"DBN\")"
   ]
  },
  {
   "cell_type": "markdown",
   "metadata": {},
   "source": [
    "List of fields in combined that originally came from a survey of parents, teachers, and students:"
   ]
  },
  {
   "cell_type": "code",
   "execution_count": 12,
   "metadata": {
    "collapsed": false
   },
   "outputs": [
    {
     "data": {
      "text/plain": [
       "['rr_s',\n",
       " 'rr_t',\n",
       " 'rr_p',\n",
       " 'N_s',\n",
       " 'N_t',\n",
       " 'N_p',\n",
       " 'saf_p_11',\n",
       " 'com_p_11',\n",
       " 'eng_p_11',\n",
       " 'aca_p_11',\n",
       " 'saf_t_11',\n",
       " 'com_t_11',\n",
       " 'eng_t_11',\n",
       " 'aca_t_11',\n",
       " 'saf_s_11',\n",
       " 'com_s_11',\n",
       " 'eng_s_11',\n",
       " 'aca_s_11',\n",
       " 'saf_tot_11',\n",
       " 'com_tot_11',\n",
       " 'eng_tot_11',\n",
       " 'aca_tot_11']"
      ]
     },
     "execution_count": 12,
     "metadata": {},
     "output_type": "execute_result"
    }
   ],
   "source": [
    "survey_fields"
   ]
  },
  {
   "cell_type": "code",
   "execution_count": 13,
   "metadata": {
    "collapsed": false
   },
   "outputs": [
    {
     "data": {
      "image/png": "[encoded data removed]",
      "text/plain": [
       "<matplotlib.figure.Figure at 0x7fc87ad86518>"
      ]
     },
     "metadata": {},
     "output_type": "display_data"
    }
   ],
   "source": [
    "import matplotlib.pyplot as plt\n",
    "%matplotlib inline\n",
    "\n",
    "combined.corr()[\"sat_score\"][survey_fields].plot.bar()\n",
    "\n",
    "plt.show()"
   ]
  },
  {
   "cell_type": "markdown",
   "metadata": {},
   "source": [
    "There are higher coorelations between N_s, N_t, N_p and sat_score. saf_t_11 and saf_s_11, which measure how teachers and students perceive safety at school, correlated highly with sat_score."
   ]
  },
  {
   "cell_type": "markdown",
   "metadata": {},
   "source": [
    "#### 2.1 Safety Scores differences in SAT scores"
   ]
  },
  {
   "cell_type": "code",
   "execution_count": 14,
   "metadata": {
    "collapsed": false
   },
   "outputs": [
    {
     "data": {
      "image/png": "[encoded data removed]",
      "text/plain": [
       "<matplotlib.figure.Figure at 0x7fc878886c88>"
      ]
     },
     "metadata": {},
     "output_type": "display_data"
    }
   ],
   "source": [
    "%matplotlib inline\n",
    "combined.plot.scatter(\"saf_s_11\", \"sat_score\")\n",
    "plt.show()"
   ]
  },
  {
   "cell_type": "markdown",
   "metadata": {},
   "source": [
    "There is a correlation between SAT scores and safety, there are a few schools with both high SAT scores and high safety scores, and vice versa. No school with a safety score lower than 6.5 has an average SAT score higher than 1600."
   ]
  },
  {
   "cell_type": "markdown",
   "metadata": {},
   "source": [
    "Average safety score for each district:"
   ]
  },
  {
   "cell_type": "code",
   "execution_count": 18,
   "metadata": {
    "collapsed": false
   },
   "outputs": [
    {
     "data": {
      "text/plain": [
       "<bound method DataFrame.head of    school_dist  SAT Critical Reading Avg. Score  SAT Math Avg. Score  \\\n",
       "0           01                       441.833333           473.333333   \n",
       "1           02                       426.619092           444.186256   \n",
       "2           03                       428.529851           437.997512   \n",
       "3           04                       402.142857           416.285714   \n",
       "4           05                       427.159915           438.236674   \n",
       "5           06                       382.011940           400.565672   \n",
       "6           07                       376.461538           380.461538   \n",
       "7           08                       386.214383           395.542741   \n",
       "8           09                       373.755970           383.582836   \n",
       "9           10                       403.363636           418.000000   \n",
       "10          11                       389.866667           394.533333   \n",
       "11          12                       364.769900           379.109453   \n",
       "12          13                       409.393800           424.127440   \n",
       "13          14                       395.937100           398.189765   \n",
       "14          15                       395.679934           404.628524   \n",
       "15          16                       371.529851           379.164179   \n",
       "16          17                       386.571429           394.071429   \n",
       "17          18                       373.454545           373.090909   \n",
       "18          19                       367.083333           377.583333   \n",
       "19          20                       406.223881           465.731343   \n",
       "20          21                       395.283582           421.786974   \n",
       "21          22                       473.500000           502.750000   \n",
       "22          23                       380.666667           398.666667   \n",
       "23          24                       405.846154           434.000000   \n",
       "24          25                       437.250000           483.500000   \n",
       "25          26                       445.200000           487.600000   \n",
       "26          27                       407.800000           422.200000   \n",
       "27          28                       445.941655           465.997286   \n",
       "28          29                       395.764925           399.457090   \n",
       "29          30                       430.679934           465.961857   \n",
       "30          31                       457.500000           472.500000   \n",
       "31          32                       371.500000           385.833333   \n",
       "\n",
       "    SAT Writing Avg. Score    sat_score  AP Test Takers   Total Exams Taken  \\\n",
       "0               439.333333  1354.500000       116.681090         173.019231   \n",
       "1               424.832836  1295.638184       128.908454         201.516827   \n",
       "2               426.915672  1293.443035       156.183494         244.522436   \n",
       "3               405.714286  1224.142857       129.016484         183.879121   \n",
       "4               419.666098  1285.062687        85.722527         115.725275   \n",
       "5               382.066269  1164.643881       108.711538         159.715385   \n",
       "6               371.923077  1128.846154        73.703402         112.476331   \n",
       "7               377.908005  1159.665129       118.379371         168.020979   \n",
       "8               374.633134  1131.971940        71.411538         104.265385   \n",
       "9               400.863636  1222.227273       132.231206         226.914336   \n",
       "10              380.600000  1165.000000        83.813462         122.484615   \n",
       "11              357.943781  1101.823134        93.102564         139.442308   \n",
       "12              403.666361  1237.187600       232.931953         382.704142   \n",
       "13              385.333049  1179.459915        77.798077         114.873626   \n",
       "14              390.295854  1190.604312        94.574786         141.581197   \n",
       "15              369.415672  1120.109701        82.264423         126.519231   \n",
       "16              380.785714  1161.428571       105.583791         163.087912   \n",
       "17              371.454545  1118.000000       129.028846         197.038462   \n",
       "18              359.166667  1103.833333        88.097756         124.769231   \n",
       "19              401.732537  1273.687761       227.805769         359.407692   \n",
       "20              389.242062  1206.312619       135.467657         203.835664   \n",
       "21              474.250000  1450.500000       391.007212         614.509615   \n",
       "22              378.000000  1157.333333        29.000000          31.000000   \n",
       "23              402.153846  1242.000000       126.474852         179.094675   \n",
       "24              436.250000  1357.000000       205.260817         279.889423   \n",
       "25              444.800000  1377.600000       410.605769         632.407692   \n",
       "26              394.300000  1224.300000       100.611538         145.315385   \n",
       "27              435.908005  1347.846947       182.010490         273.559441   \n",
       "28              386.707836  1181.929851        63.385817          96.514423   \n",
       "29              429.740299  1326.382090       157.231838         252.123932   \n",
       "30              452.500000  1382.500000       228.908654         355.111538   \n",
       "31              362.166667  1119.500000        70.342949         100.179487   \n",
       "\n",
       "    Number of Exams with scores 3 4 or 5  Total Cohort   CSD    ...      \\\n",
       "0                             135.800000     93.500000   1.0    ...       \n",
       "1                             157.495833    158.647849   2.0    ...       \n",
       "2                             193.087500    183.384409   3.0    ...       \n",
       "3                             151.035714    113.857143   4.0    ...       \n",
       "4                             142.464286    143.677419   5.0    ...       \n",
       "5                             105.425000    180.848387   6.0    ...       \n",
       "6                             105.276923    105.605459   7.0    ...       \n",
       "7                             144.731818    215.510264   8.0    ...       \n",
       "8                              98.470000    113.330645   9.0    ...       \n",
       "9                             191.618182    161.318182  10.0    ...       \n",
       "10                            108.833333    122.866667  11.0    ...       \n",
       "11                            153.450000    110.467742  12.0    ...       \n",
       "12                            320.773077    224.595533  13.0    ...       \n",
       "13                            123.282143    112.347926  14.0    ...       \n",
       "14                            153.450000    104.207885  15.0    ...       \n",
       "15                            153.450000    247.185484  16.0    ...       \n",
       "16                            111.360714    121.357143  17.0    ...       \n",
       "17                            153.450000     72.771261  18.0    ...       \n",
       "18                            120.670833    114.322581  19.0    ...       \n",
       "19                            177.690000    591.374194  20.0    ...       \n",
       "20                            142.377273    275.351906  21.0    ...       \n",
       "21                            370.362500    580.250000  22.0    ...       \n",
       "22                            153.450000     87.000000  23.0    ...       \n",
       "23                            115.165385    234.682382  24.0    ...       \n",
       "24                            174.793750    268.733871  25.0    ...       \n",
       "25                            392.090000    825.600000  26.0    ...       \n",
       "26                             95.125000    288.961290  27.0    ...       \n",
       "27                            175.336364    351.214076  28.0    ...       \n",
       "28                            135.268750     98.108871  29.0    ...       \n",
       "29                            115.150000    310.526882  30.0    ...       \n",
       "30                            194.435000    450.787097  31.0    ...       \n",
       "31                             83.558333    105.333333  32.0    ...       \n",
       "\n",
       "    grade_span_max  expgrade_span_max           zip  total_students  \\\n",
       "0             12.0               12.0  10003.166667      659.500000   \n",
       "1             12.0               12.0  10023.770833      621.395833   \n",
       "2             12.0               12.0  10023.750000      717.916667   \n",
       "3             12.0               12.0  10029.857143      580.857143   \n",
       "4             12.0               12.0  10030.142857      609.857143   \n",
       "5             12.0               12.0  10036.200000      628.900000   \n",
       "6             12.0               12.0  10452.692308      465.846154   \n",
       "7             12.0               12.0  10467.000000      547.636364   \n",
       "8             12.0               12.0  10456.100000      449.700000   \n",
       "9             12.0               12.0  10463.181818      757.863636   \n",
       "10            12.0               12.0  10467.933333      563.666667   \n",
       "11            12.0               12.0  10463.166667      409.000000   \n",
       "12            12.0               12.0  11207.153846      895.153846   \n",
       "13            12.0               12.0  11210.785714      545.357143   \n",
       "14            12.0               12.0  11214.222222      573.111111   \n",
       "15            12.0               12.0  11219.000000      440.250000   \n",
       "16            12.0               12.0  11220.642857      547.071429   \n",
       "17            12.0               12.0  11224.000000      344.000000   \n",
       "18            12.0               12.0  11207.500000      440.416667   \n",
       "19            12.0               12.0  11210.200000     2521.400000   \n",
       "20            12.0               12.0  11221.000000     1098.272727   \n",
       "21            12.0               12.0  11223.000000     2149.000000   \n",
       "22            12.0               12.0  11219.000000      391.000000   \n",
       "23            12.0               12.0  11206.153846      962.461538   \n",
       "24            12.0               12.0  11361.000000     1288.875000   \n",
       "25            12.0               12.0  11388.600000     2837.400000   \n",
       "26            12.0               12.0  11556.300000     1072.000000   \n",
       "27            12.0               12.0  11422.000000     1304.272727   \n",
       "28            12.0               12.0  11413.625000      474.125000   \n",
       "29            12.0               12.0  11103.000000     1123.333333   \n",
       "30            12.0               12.0  10307.100000     1847.500000   \n",
       "31            12.0               12.0  11231.666667      381.500000   \n",
       "\n",
       "    number_programs  priority08  priority09  priority10        lat        lon  \n",
       "0          1.333333         0.0         0.0         0.0  40.719022 -73.982377  \n",
       "1          1.416667         0.0         0.0         0.0  40.739699 -73.991386  \n",
       "2          2.000000         0.0         0.0         0.0  40.781574 -73.977370  \n",
       "3          1.142857         0.0         0.0         0.0  40.793449 -73.943215  \n",
       "4          1.142857         0.0         0.0         0.0  40.817077 -73.949251  \n",
       "5          1.300000         0.0         0.0         0.0  40.848970 -73.932502  \n",
       "6          1.461538         0.0         0.0         0.0  40.816815 -73.919971  \n",
       "7          1.272727         0.0         0.0         0.0  40.823803 -73.866087  \n",
       "8          1.150000         0.0         0.0         0.0  40.836349 -73.906240  \n",
       "9          1.500000         0.0         0.0         0.0  40.870345 -73.898360  \n",
       "10         1.533333         0.0         0.0         0.0  40.873138 -73.856120  \n",
       "11         1.083333         0.0         0.0         0.0  40.831412 -73.886946  \n",
       "12         2.076923         0.0         0.0         0.0  40.692865 -73.977016  \n",
       "13         2.000000         0.0         0.0         0.0  40.711599 -73.948360  \n",
       "14         1.666667         0.0         0.0         0.0  40.675972 -73.989255  \n",
       "15         1.750000         0.0         0.0         0.0  40.688008 -73.929686  \n",
       "16         1.642857         0.0         0.0         0.0  40.660313 -73.955636  \n",
       "17         1.090909         0.0         0.0         0.0  40.641863 -73.914726  \n",
       "18         1.916667         0.0         0.0         0.0  40.676547 -73.882158  \n",
       "19         3.800000         0.0         0.0         0.0  40.626751 -74.006191  \n",
       "20         3.272727         0.0         0.0         0.0  40.593596 -73.978465  \n",
       "21         2.250000         0.0         0.0         0.0  40.618285 -73.952288  \n",
       "22         1.333333         0.0         0.0         0.0  40.668586 -73.912298  \n",
       "23         2.230769         0.0         0.0         0.0  40.740621 -73.911518  \n",
       "24         1.875000         0.0         0.0         0.0  40.745414 -73.815558  \n",
       "25         4.600000         0.0         0.0         0.0  40.748507 -73.759176  \n",
       "26         2.500000         0.0         0.0         0.0  40.638828 -73.807823  \n",
       "27         2.545455         0.0         0.0         0.0  40.709344 -73.806367  \n",
       "28         1.250000         0.0         0.0         0.0  40.685276 -73.752740  \n",
       "29         2.555556         0.0         0.0         0.0  40.755398 -73.932306  \n",
       "30         5.000000         0.0         0.0         0.0  40.595680 -74.125726  \n",
       "31         1.000000         0.0         0.0         0.0  40.696295 -73.917124  \n",
       "\n",
       "[32 rows x 68 columns]>"
      ]
     },
     "execution_count": 18,
     "metadata": {},
     "output_type": "execute_result"
    }
   ],
   "source": [
    "%matplotlib inline\n",
    "\n",
    "# group safety scores by districts\n",
    "districts = combined.groupby(\"school_dist\").agg(np.mean)\n",
    "districts.reset_index(inplace=True)\n",
    "\n",
    "districts.head"
   ]
  },
  {
   "cell_type": "code",
   "execution_count": 66,
   "metadata": {
    "collapsed": false
   },
   "outputs": [
    {
     "data": {
      "image/png": "[encoded data removed]",
      "text/plain": [
       "<matplotlib.figure.Figure at 0x7fc86ded25f8>"
      ]
     },
     "metadata": {},
     "output_type": "display_data"
    }
   ],
   "source": [
    "# scatter plot of the saf_s_11 column VS the sat_score in combined\n",
    "\n",
    "%matplotlib inline\n",
    "\n",
    "from mpl_toolkits.basemap import Basemap\n",
    "\n",
    "\n",
    "# llcrnrlon: The lower left corner geographical longitude\n",
    "# llcrnrlat: The lower left corner geographical latitude\n",
    "# urcrnrlon: The upper right corner geographical longitude\n",
    "# urcrnrlat: The upper right corner geographical latitude\n",
    "\n",
    "m = Basemap(projection=\"gnom\",\n",
    "            lat_0=40.730610, lon_0=-73.935242,\n",
    "            llcrnrlat=40.400000, \n",
    "            urcrnrlat=41.000000, \n",
    "            llcrnrlon=-74.200000, \n",
    "            urcrnrlon=-73.600000,\n",
    "            resolution='i')\n",
    "\n",
    "m.fillcontinents(color=\"#FFDDCC\", lake_color='#DDEEFF')\n",
    "m.drawmapboundary(fill_color=\"#DDEEFF\")\n",
    "\n",
    "# #000000 Color Hex Black\n",
    "m.drawcoastlines(color='#000000', linewidth=0.4)\n",
    "m.drawrivers(color='#000000', linewidth=0.4)\n",
    "                  \n",
    "longitudes = districts[\"lon\"].tolist()\n",
    "latitudes = districts[\"lat\"].tolist()\n",
    "\n",
    "# If latlon keyword is set to True, x,y are intrepreted as longitude and latitude in degrees\n",
    "# c=column: colour the points by another variable (colour the points by the average safety score)\n",
    "# cmap: Colormap\n",
    "# reference: http://chris35wills.github.io/courses/PythonPackages_matplotlib/matplotlib_scatter/\n",
    "\n",
    "m.scatter(longitudes, latitudes, s=50, zorder=2, latlon=True, c=districts[\"saf_s_11\"], cmap=plt.cm.PuRd)\n",
    "\n",
    "\n",
    "# reference: https://jakevdp.github.io/PythonDataScienceHandbook/04.13-geographic-data-with-basemap.html\n",
    "\n",
    "plt.colorbar(label=\"Average safety score for each district\")\n",
    "plt.title(\"Safety Scores by District\")\n",
    "\n",
    "plt.show()"
   ]
  },
  {
   "cell_type": "markdown",
   "metadata": {},
   "source": [
    "#### 2.2 Racial differences in SAT scores"
   ]
  },
  {
   "cell_type": "code",
   "execution_count": 72,
   "metadata": {
    "collapsed": false
   },
   "outputs": [
    {
     "data": {
      "image/png": "[encoded data removed]",
      "text/plain": [
       "<matplotlib.figure.Figure at 0x7fc86e48b908>"
      ]
     },
     "metadata": {},
     "output_type": "display_data"
    }
   ],
   "source": [
    "import matplotlib.pyplot as plt\n",
    "from numpy import arange\n",
    "\n",
    "race = [\"white_per\", \"asian_per\", \"black_per\", \"hispanic_per\"]\n",
    "\n",
    "# bar plot of the correlations between the columns above and sat_score\n",
    "correlations = combined.corr()[\"sat_score\"][race].plot.bar()"
   ]
  },
  {
   "cell_type": "code",
   "execution_count": 74,
   "metadata": {
    "collapsed": false
   },
   "outputs": [
    {
     "data": {
      "text/plain": [
       "<matplotlib.axes._subplots.AxesSubplot at 0x7fc86e496d68>"
      ]
     },
     "execution_count": 74,
     "metadata": {},
     "output_type": "execute_result"
    },
    {
     "data": {
      "image/png": "[encoded data removed]",
      "text/plain": [
       "<matplotlib.figure.Figure at 0x7fc86df16198>"
      ]
     },
     "metadata": {},
     "output_type": "display_data"
    }
   ],
   "source": [
    "# scatter plot of hispanic_per vs. sat_score\n",
    "\n",
    "combined.plot.scatter(\"hispanic_per\", \"sat_score\")"
   ]
  },
  {
   "cell_type": "code",
   "execution_count": 79,
   "metadata": {
    "collapsed": false
   },
   "outputs": [
    {
     "name": "stdout",
     "output_type": "stream",
     "text": [
      "Schools with hispanic_per greater than 95%:\n",
      "44                         MANHATTAN BRIDGES HIGH SCHOOL\n",
      "82      WASHINGTON HEIGHTS EXPEDITIONARY LEARNING SCHOOL\n",
      "89     GREGORIO LUPERON HIGH SCHOOL FOR SCIENCE AND M...\n",
      "125                  ACADEMY FOR LANGUAGE AND TECHNOLOGY\n",
      "141                INTERNATIONAL SCHOOL FOR LIBERAL ARTS\n",
      "176     PAN AMERICAN INTERNATIONAL HIGH SCHOOL AT MONROE\n",
      "253                            MULTICULTURAL HIGH SCHOOL\n",
      "286               PAN AMERICAN INTERNATIONAL HIGH SCHOOL\n",
      "Name: SCHOOL NAME, dtype: object\n"
     ]
    }
   ],
   "source": [
    "# schools with a hispanic_per greater than 95%\n",
    "\n",
    "schools_hispanic_95_above = combined[combined[\"hispanic_per\"] > 95][\"SCHOOL NAME\"]\n",
    "\n",
    "print(\"Schools with hispanic_per greater than 95%:\")\n",
    "print(schools_hispanic_95_above)"
   ]
  },
  {
   "cell_type": "code",
   "execution_count": 80,
   "metadata": {
    "collapsed": false
   },
   "outputs": [
    {
     "name": "stdout",
     "output_type": "stream",
     "text": [
      "Schools with a hispanic_per less than 10% and an average SAT score greater than 1800:\n",
      "37                                STUYVESANT HIGH SCHOOL\n",
      "151                         BRONX HIGH SCHOOL OF SCIENCE\n",
      "187                       BROOKLYN TECHNICAL HIGH SCHOOL\n",
      "327    QUEENS HIGH SCHOOL FOR THE SCIENCES AT YORK CO...\n",
      "356                  STATEN ISLAND TECHNICAL HIGH SCHOOL\n",
      "Name: SCHOOL NAME, dtype: object\n"
     ]
    }
   ],
   "source": [
    "# schools with a hispanic_per less than 10% and an average SAT score greater than 1800\n",
    "\n",
    "hispanic_10_below_SAT_1800_above = combined[(combined[\"hispanic_per\"] < 10) & (combined[\"sat_score\"] > 1800)][\"SCHOOL NAME\"]\n",
    "\n",
    "print(\"Schools with a hispanic_per less than 10% and an average SAT score greater than 1800:\")\n",
    "print(hispanic_10_below_SAT_1800_above)"
   ]
  },
  {
   "cell_type": "markdown",
   "metadata": {},
   "source": [
    "#### 2.3 Gender differences in SAT scores"
   ]
  },
  {
   "cell_type": "code",
   "execution_count": 82,
   "metadata": {
    "collapsed": false
   },
   "outputs": [
    {
     "data": {
      "image/png": "[encoded data removed]",
      "text/plain": [
       "<matplotlib.figure.Figure at 0x7fc86bce41d0>"
      ]
     },
     "metadata": {},
     "output_type": "display_data"
    }
   ],
   "source": [
    "import matplotlib.pyplot as plt\n",
    "from numpy import arange\n",
    "\n",
    "gender = [\"male_per\", \"female_per\"]\n",
    "\n",
    "# bar plot of the correlations between the columns above and sat_score\n",
    "correlations = combined.corr()[\"sat_score\"][gender].plot.bar()"
   ]
  },
  {
   "cell_type": "code",
   "execution_count": 83,
   "metadata": {
    "collapsed": false
   },
   "outputs": [
    {
     "data": {
      "text/plain": [
       "<matplotlib.axes._subplots.AxesSubplot at 0x7fc86b1d77b8>"
      ]
     },
     "execution_count": 83,
     "metadata": {},
     "output_type": "execute_result"
    },
    {
     "data": {
      "image/png": "[encoded data removed]",
      "text/plain": [
       "<matplotlib.figure.Figure at 0x7fc86e3bf390>"
      ]
     },
     "metadata": {},
     "output_type": "display_data"
    }
   ],
   "source": [
    "# scatter plot of female_per vs. sat_score\n",
    "\n",
    "combined.plot.scatter(\"female_per\", \"sat_score\")"
   ]
  },
  {
   "cell_type": "code",
   "execution_count": 85,
   "metadata": {
    "collapsed": false
   },
   "outputs": [
    {
     "name": "stdout",
     "output_type": "stream",
     "text": [
      "Schools with a female_per greater than 60% and an average SAT score greater than 1700:\n",
      "5                         BARD HIGH SCHOOL EARLY COLLEGE\n",
      "26                         ELEANOR ROOSEVELT HIGH SCHOOL\n",
      "60                                    BEACON HIGH SCHOOL\n",
      "61     FIORELLO H. LAGUARDIA HIGH SCHOOL OF MUSIC & A...\n",
      "302                          TOWNSEND HARRIS HIGH SCHOOL\n",
      "Name: SCHOOL NAME, dtype: object\n"
     ]
    }
   ],
   "source": [
    "# bar plot of the correlations between the columns above and sat_score\n",
    "\n",
    "female_60_above_SAT_1700_above = combined[(combined[\"female_per\"] > 60) & (combined[\"sat_score\"] > 1700)][\"SCHOOL NAME\"]\n",
    "\n",
    "print(\"Schools with a female_per greater than 60% and an average SAT score greater than 1700:\")\n",
    "print(female_60_above_SAT_1700_above)"
   ]
  },
  {
   "cell_type": "markdown",
   "metadata": {},
   "source": [
    "## 3. AP Exam Scores vs SAT Scores"
   ]
  },
  {
   "cell_type": "markdown",
   "metadata": {},
   "source": [
    "In the U.S., high school students take Advanced Placement (AP) exams to earn college credit. There are AP exams for many different subjects. We would like to explore the relationship between AP scores and SAT scores:"
   ]
  },
  {
   "cell_type": "markdown",
   "metadata": {},
   "source": [
    "Percentage of students in each school that took an AP exam:"
   ]
  },
  {
   "cell_type": "code",
   "execution_count": 89,
   "metadata": {
    "collapsed": true
   },
   "outputs": [],
   "source": [
    "# divide AP Test Takers column by the total_enrollment column\n",
    "\n",
    "combined[\"ap_per\"] = combined[\"AP Test Takers \"] / combined[\"total_enrollment\"]"
   ]
  },
  {
   "cell_type": "code",
   "execution_count": 90,
   "metadata": {
    "collapsed": false
   },
   "outputs": [
    {
     "data": {
      "image/png": "[encoded data removed]",
      "text/plain": [
       "<matplotlib.figure.Figure at 0x7fc86b1b8780>"
      ]
     },
     "metadata": {},
     "output_type": "display_data"
    }
   ],
   "source": [
    "# scatter plot of ap_per vs. sat_score\n",
    "\n",
    "combined.plot.scatter(\"ap_per\", \"sat_score\")\n",
    "\n",
    "plt.show()"
   ]
  }
 ],
 "metadata": {
  "kernelspec": {
   "display_name": "Python 3",
   "language": "python",
   "name": "python3"
  },
  "language_info": {
   "codemirror_mode": {
    "name": "ipython",
    "version": 3
   },
   "file_extension": ".py",
   "mimetype": "text/x-python",
   "name": "python",
   "nbconvert_exporter": "python",
   "pygments_lexer": "ipython3",
   "version": "3.4.3"
  }
 },
 "nbformat": 4,
 "nbformat_minor": 2
}
