{
 "cells": [
  {
   "cell_type": "markdown",
   "metadata": {},
   "source": [
    "# Profitable App Profiles for the App Store and Google Play Markets"
   ]
  },
  {
   "cell_type": "markdown",
   "metadata": {},
   "source": [
    "The mobile apps industry is everchanging.The goal of this project is to understand what type of free apps are likely to attract more English-speaking users on Google Play and the App Store. According to the study published on Statista (https://www.statista.com/statistics/272698/global-market-share-held-by-mobile-operating-systems-since-2009/), as of December 2019, the Google Android and Apple iOS operating system jointly dominates almost 99% of the global market share."
   ]
  },
  {
   "cell_type": "markdown",
   "metadata": {},
   "source": [
    "## 1. Understanding the client"
   ]
  },
  {
   "cell_type": "markdown",
   "metadata": {},
   "source": [
    "The client's revenue is highly influenced by the number of people using our apps. To minimize risks and overhead, their validation strategy for an app idea is comprised of three steps:\n",
    "\n",
    "1. Build a minimal Android version of the app, and add it to Google Play.\n",
    "2. If the app has a good response from users, we develop it further.\n",
    "3. If the app is profitable after six months, we build an iOS version of the app and add it to the App Store.\n",
    "\n",
    "The company's end goal is to add the app on both Google Play and the App Store, so there is a need to find app profiles that are successful on both markets. For instance, a profile that works well for both markets might be a productivity app that makes use of gamification."
   ]
  },
  {
   "cell_type": "markdown",
   "metadata": {},
   "source": [
    "## 2. Methodology"
   ]
  },
  {
   "cell_type": "markdown",
   "metadata": {},
   "source": [
    "As of September 2018, there were approximately 2 million iOS apps available on the App Store, and 2.1 million Android apps on Google Play.\n",
    "\n",
    "The two data sets used for this study are:\n",
    "\n",
    "1. Data set of 10,000 Google Play Store Apps (googleplaystore.csv) from https://www.kaggle.com/lava18/google-play-store-apps\n",
    "2. Data set of 7,200 Apple iOS App Store apps (AppleStore.csv) from https://www.kaggle.com/ramamet4/app-store-apple-data-set-10k-apps"
   ]
  },
  {
   "cell_type": "markdown",
   "metadata": {},
   "source": [
    "## 3. Exploring the Data"
   ]
  },
  {
   "cell_type": "code",
   "execution_count": 16,
   "metadata": {},
   "outputs": [],
   "source": [
    "from csv import reader\n",
    "\n",
    "#Google Play data set\n",
    "opened_file = open('googleplaystore.csv', encoding='utf8')\n",
    "read_file = reader(opened_file)\n",
    "android = list(read_file)\n",
    "android_header = android[0]\n",
    "android = android[1:]\n",
    "\n",
    "#App Store data set\n",
    "opened_file = open('AppleStore.csv', encoding='utf8')\n",
    "read_file = reader(opened_file)\n",
    "ios = list(read_file)\n",
    "ios_header = ios[0]\n",
    "ios = ios[1:]"
   ]
  },
  {
   "cell_type": "markdown",
   "metadata": {},
   "source": [
    "The function explore_data() is created to to print rows in a readable way repeatedly:"
   ]
  },
  {
   "cell_type": "code",
   "execution_count": 291,
   "metadata": {},
   "outputs": [],
   "source": [
    "#rows_and_columns is expected to be a Boolean and has False as a default argument\n",
    "def explore_data(dataset, start, end, rows_and_columns=False):\n",
    "    dataset_slice = dataset[start:end]    \n",
    "    for row in dataset_slice:\n",
    "        print(row)\n",
    "        print('\\n')\n",
    "        \n",
    "    if rows_and_columns:\n",
    "        print('Number of rows:', len(dataset))\n",
    "        print('Number of columns:', len(dataset[0]))"
   ]
  },
  {
   "cell_type": "markdown",
   "metadata": {},
   "source": [
    "#### 3.1 Google Play Store CSV Data Set"
   ]
  },
  {
   "cell_type": "code",
   "execution_count": 292,
   "metadata": {},
   "outputs": [
    {
     "name": "stdout",
     "output_type": "stream",
     "text": [
      "The headers in the Google Play Store CSV file:\n",
      "\n",
      "\n",
      "['App', 'Category', 'Rating', 'Reviews', 'Size', 'Installs', 'Type', 'Price', 'Content Rating', 'Genres', 'Last Updated', 'Current Ver', 'Android Ver']\n",
      "\n",
      "\n",
      "---------------------------------------------------------------------------\n",
      "\n",
      "\n",
      "The first three rows of the Google Play Store CSV file:\n",
      "\n",
      "\n",
      "['Photo Editor & Candy Camera & Grid & ScrapBook', 'ART_AND_DESIGN', '4.1', '159', '19M', '10,000+', 'Free', '0', 'Everyone', 'Art & Design', 'January 7, 2018', '1.0.0', '4.0.3 and up']\n",
      "\n",
      "\n",
      "['Coloring book moana', 'ART_AND_DESIGN', '3.9', '967', '14M', '500,000+', 'Free', '0', 'Everyone', 'Art & Design;Pretend Play', 'January 15, 2018', '2.0.0', '4.0.3 and up']\n",
      "\n",
      "\n",
      "['U Launcher Lite – FREE Live Cool Themes, Hide Apps', 'ART_AND_DESIGN', '4.7', '87510', '8.7M', '5,000,000+', 'Free', '0', 'Everyone', 'Art & Design', 'August 1, 2018', '1.2.4', '4.0.3 and up']\n",
      "\n",
      "\n",
      "Number of rows: 10840\n",
      "Number of columns: 13\n"
     ]
    }
   ],
   "source": [
    "print('The headers in the Google Play Store CSV file:')\n",
    "print('\\n')\n",
    "print(android_header)\n",
    "print('\\n')\n",
    "\n",
    "print('---------------------------------------------------------------------------')\n",
    "print('\\n')\n",
    "\n",
    "print('The first three rows of the Google Play Store CSV file:')\n",
    "print('\\n')\n",
    "explore_data(android, 0, 3, True)"
   ]
  },
  {
   "cell_type": "markdown",
   "metadata": {},
   "source": [
    "There are 10841 apps in Google Play. Among the 13 columns in this data set, the columns that are helpful for this analysis are 'App', 'Category', 'Reviews', 'Installs', 'Type', 'Price', and 'Genres'."
   ]
  },
  {
   "cell_type": "markdown",
   "metadata": {},
   "source": [
    "#### 3.2 Apple  App Store CSV Data Set"
   ]
  },
  {
   "cell_type": "code",
   "execution_count": 293,
   "metadata": {},
   "outputs": [
    {
     "name": "stdout",
     "output_type": "stream",
     "text": [
      "The headers in the Apple Store CSV file:\n",
      "\n",
      "\n",
      "['id', 'track_name', 'size_bytes', 'currency', 'price', 'rating_count_tot', 'rating_count_ver', 'user_rating', 'user_rating_ver', 'ver', 'cont_rating', 'prime_genre', 'sup_devices.num', 'ipadSc_urls.num', 'lang.num', 'vpp_lic']\n",
      "\n",
      "\n",
      "---------------------------------------------------------------------------\n",
      "\n",
      "\n",
      "The first three rows of the Apple Store CSV file:\n",
      "\n",
      "\n",
      "['284882215', 'Facebook', '389879808', 'USD', '0.0', '2974676', '212', '3.5', '3.5', '95.0', '4+', 'Social Networking', '37', '1', '29', '1']\n",
      "\n",
      "\n",
      "['389801252', 'Instagram', '113954816', 'USD', '0.0', '2161558', '1289', '4.5', '4.0', '10.23', '12+', 'Photo & Video', '37', '0', '29', '1']\n",
      "\n",
      "\n",
      "['529479190', 'Clash of Clans', '116476928', 'USD', '0.0', '2130805', '579', '4.5', '4.5', '9.24.12', '9+', 'Games', '38', '5', '18', '1']\n",
      "\n",
      "\n",
      "Number of rows: 7197\n",
      "Number of columns: 16\n"
     ]
    }
   ],
   "source": [
    "print('The headers in the Apple Store CSV file:')\n",
    "print('\\n')\n",
    "print(ios_header)\n",
    "print('\\n')\n",
    "\n",
    "print('---------------------------------------------------------------------------')\n",
    "print('\\n')\n",
    "\n",
    "print('The first three rows of the Apple Store CSV file:')\n",
    "print('\\n')\n",
    "explore_data(ios, 0, 3, True)"
   ]
  },
  {
   "cell_type": "markdown",
   "metadata": {},
   "source": [
    "The data provider has defined the column names as follows:\n",
    "\n",
    "| Columns | Syntax                  | Description                                     |\n",
    "| --------| ------------------------| ------------------------------------------------|\n",
    "|    1    | \"id \"                   | App ID                                          |\n",
    "|    2    | \"track_name\"            | App Name                                        |\n",
    "|    3    | \"size_bytes\"            | Size (in Bytes)                                 |\n",
    "|    4    | \"currency\"              | Currency Type                                   |\n",
    "|    5    | \"price\"                 | Price amount                                    |\n",
    "|    6    | \"rating_count_tot\"      | User Rating counts (for all version)            |\n",
    "|    7    | \"rating_count_ver\"      | User Rating counts (for current version)        |\n",
    "|    8    | \"user_rating\"           | Average User Rating value (for current version) |\n",
    "|    9    | \"ver\"                   | Latest version code                             |\n",
    "|    10   | \"cont_rating\"           | Content Rating                                  |\n",
    "|    11   | \"prime_genre\"           | Primary Genre                                   |\n",
    "|    12   | \"sup_devices.num\"       | Number of supporting devices                    |\n",
    "|    13   | \"ipadSc_urls.num\"       | Number of screenshots showed for display        |\n",
    "|    14   | \"lang.num\"              | Number of supported languages                   |\n",
    "|    15   | \"vpp_lic\"               | Vpp Device Based Licensing Enabled              |\n",
    "\n",
    "\n",
    "Based on the explanation in Meraki (https://documentation.meraki.com/SM/Apps_and_Software/Apple_Volume_Purchase_Program_(VPP)), VPP stands for Volume Purchase Program (VPP). It is an Apple portal for businesses and schools to purchase and license apps and books in volume. If the licence is enabled, it will be shown as 1 on the column."
   ]
  },
  {
   "cell_type": "markdown",
   "metadata": {},
   "source": [
    "There are 7197 apps in App Store. Among the 15 columns in this data set, the columns that helpful for this analysis are 'track_name', 'currency', 'price', 'rating_count_tot', 'rating_count_ver', and 'prime_genre'."
   ]
  },
  {
   "cell_type": "markdown",
   "metadata": {},
   "source": [
    "## 4. Data Cleaning"
   ]
  },
  {
   "cell_type": "markdown",
   "metadata": {},
   "source": [
    "#### 4.1 Removing Wrong Data"
   ]
  },
  {
   "cell_type": "markdown",
   "metadata": {},
   "source": [
    "As described in the discussion session of the data set source (https://www.kaggle.com/lava18/google-play-store-apps/discussion/66015), there is a wrong data shown on row 10472 of the Google Play data set:"
   ]
  },
  {
   "cell_type": "code",
   "execution_count": 36,
   "metadata": {},
   "outputs": [
    {
     "name": "stdout",
     "output_type": "stream",
     "text": [
      "This is the header row:\n",
      "['App', 'Category', 'Rating', 'Reviews', 'Size', 'Installs', 'Type', 'Price', 'Content Rating', 'Genres', 'Last Updated', 'Current Ver', 'Android Ver']\n",
      "\n",
      "\n",
      "Row 10472:\n",
      "['Life Made WI-Fi Touchscreen Photo Frame', '1.9', '19', '3.0M', '1,000+', 'Free', '0', 'Everyone', '', 'February 11, 2018', '1.0.19', '4.0 and up']\n",
      "\n",
      "\n",
      "The first 3 rows of the data set is printed for comparison:\n",
      "['Photo Editor & Candy Camera & Grid & ScrapBook', 'ART_AND_DESIGN', '4.1', '159', '19M', '10,000+', 'Free', '0', 'Everyone', 'Art & Design', 'January 7, 2018', '1.0.0', '4.0.3 and up']\n",
      "['Coloring book moana', 'ART_AND_DESIGN', '3.9', '967', '14M', '500,000+', 'Free', '0', 'Everyone', 'Art & Design;Pretend Play', 'January 15, 2018', '2.0.0', '4.0.3 and up']\n",
      "['U Launcher Lite – FREE Live Cool Themes, Hide Apps', 'ART_AND_DESIGN', '4.7', '87510', '8.7M', '5,000,000+', 'Free', '0', 'Everyone', 'Art & Design', 'August 1, 2018', '1.2.4', '4.0.3 and up']\n"
     ]
    }
   ],
   "source": [
    "print('This is the header row:')\n",
    "print(android_header)  # header\n",
    "print('\\n')\n",
    "print('Row 10472:')\n",
    "print(android[10472])  # incorrect row\n",
    "print('\\n')\n",
    "print('The first 3 rows of the data set is printed for comparison:')\n",
    "print(android[0])\n",
    "print(android[1])\n",
    "print(android[2])"
   ]
  },
  {
   "cell_type": "markdown",
   "metadata": {},
   "source": [
    "The 'Category' column is missing on row 10472 and the 'Rating' column in the data set is out of range. The maximum rating for a Google Play app is 5, but the rating of 'Life Made WI-Fi Touchscreen Photo Frame' is 19 as shown on the data set. Hence this row will be deleted:"
   ]
  },
  {
   "cell_type": "code",
   "execution_count": 37,
   "metadata": {},
   "outputs": [
    {
     "name": "stdout",
     "output_type": "stream",
     "text": [
      "The original size of data set: 10841\n"
     ]
    }
   ],
   "source": [
    "print('The original size of data set:', len(android))"
   ]
  },
  {
   "cell_type": "markdown",
   "metadata": {},
   "source": [
    "#This command must not run more than once\n",
    "#This command is changed to a markdown after execution to prevent re-run\n",
    "\n",
    "del android[10472]"
   ]
  },
  {
   "cell_type": "code",
   "execution_count": 39,
   "metadata": {},
   "outputs": [
    {
     "name": "stdout",
     "output_type": "stream",
     "text": [
      "The size of data set after deletion: 10840\n"
     ]
    }
   ],
   "source": [
    "print('The size of data set after deletion:', len(android))"
   ]
  },
  {
   "cell_type": "markdown",
   "metadata": {},
   "source": [
    "#### 4.2 Removing Duplicated Entries"
   ]
  },
  {
   "cell_type": "markdown",
   "metadata": {},
   "source": [
    "Duplicate entries were found in the data set and have to be removed. There are some apps that have more than one entry. For example, Instagram has four entries in the Google Play Data Set:"
   ]
  },
  {
   "cell_type": "code",
   "execution_count": 58,
   "metadata": {},
   "outputs": [
    {
     "name": "stdout",
     "output_type": "stream",
     "text": [
      "['App', 'Category', 'Rating', 'Reviews', 'Size', 'Installs', 'Type', 'Price', 'Content Rating', 'Genres', 'Last Updated', 'Current Ver', 'Android Ver']\n",
      "--------------------------------------------------------------------------------------\n",
      "['Instagram', 'SOCIAL', '4.5', '66577313', 'Varies with device', '1,000,000,000+', 'Free', '0', 'Teen', 'Social', 'July 31, 2018', 'Varies with device', 'Varies with device']\n",
      "['Instagram', 'SOCIAL', '4.5', '66577446', 'Varies with device', '1,000,000,000+', 'Free', '0', 'Teen', 'Social', 'July 31, 2018', 'Varies with device', 'Varies with device']\n",
      "['Instagram', 'SOCIAL', '4.5', '66577313', 'Varies with device', '1,000,000,000+', 'Free', '0', 'Teen', 'Social', 'July 31, 2018', 'Varies with device', 'Varies with device']\n",
      "['Instagram', 'SOCIAL', '4.5', '66509917', 'Varies with device', '1,000,000,000+', 'Free', '0', 'Teen', 'Social', 'July 31, 2018', 'Varies with device', 'Varies with device']\n"
     ]
    }
   ],
   "source": [
    "print(android_header)\n",
    "print('--------------------------------------------------------------------------------------')\n",
    "for app in android:\n",
    "    name = app[0]\n",
    "    if name == 'Instagram':\n",
    "        print(app)"
   ]
  },
  {
   "cell_type": "markdown",
   "metadata": {},
   "source": [
    "Looking into the above data, the difference between each Instagram entry is the 'Review' column, which indicates the number of reviews. This could be justified that the data was collected at different times. To ensure data reliability, the row with the highest number of reviews will be kept to ensure data accuracy."
   ]
  },
  {
   "cell_type": "markdown",
   "metadata": {},
   "source": [
    "#### 4.2.1 Part 1: Google Play Store Data Set"
   ]
  },
  {
   "cell_type": "markdown",
   "metadata": {},
   "source": [
    "In the Google Play Store Data Set, there are 1181 duplicated apps."
   ]
  },
  {
   "cell_type": "code",
   "execution_count": 48,
   "metadata": {},
   "outputs": [
    {
     "name": "stdout",
     "output_type": "stream",
     "text": [
      "Number of duplicate apps: 1181\n",
      "\n",
      "\n",
      "Examples of duplicate apps: ['Quick PDF Scanner + OCR FREE', 'Box', 'Google My Business', 'ZOOM Cloud Meetings', 'join.me - Simple Meetings', 'Box', 'Zenefits', 'Google Ads', 'Google My Business', 'Slack', 'FreshBooks Classic', 'Insightly CRM', 'QuickBooks Accounting: Invoicing & Expenses', 'HipChat - Chat Built for Teams', 'Xero Accounting Software']\n"
     ]
    }
   ],
   "source": [
    "android_duplicate_apps = []\n",
    "android_unique_apps = []\n",
    "\n",
    "for app in android:\n",
    "    name = app[0]\n",
    "    if name in android_unique_apps:\n",
    "        android_duplicate_apps.append(name)\n",
    "    else:\n",
    "        android_unique_apps.append(name)\n",
    "\n",
    "print('Number of duplicate apps:', len(android_duplicate_apps))\n",
    "print('\\n')\n",
    "print('Examples of duplicate apps:', android_duplicate_apps[:15])"
   ]
  },
  {
   "cell_type": "markdown",
   "metadata": {},
   "source": [
    "Duplicated data negatively impacts data accuracy, so duplicated data should be removed."
   ]
  },
  {
   "cell_type": "markdown",
   "metadata": {},
   "source": [
    "To delete duplicated data effectively, we will create a dictionary with the application name as the key and hightest number of reviews for that application as the value. The dictionary with unique application names will be used to create a new data set."
   ]
  },
  {
   "cell_type": "code",
   "execution_count": 108,
   "metadata": {},
   "outputs": [
    {
     "name": "stdout",
     "output_type": "stream",
     "text": [
      "Length before cleaning: 10840\n",
      "Expected length: 9659\n",
      "Actual length: 9659\n"
     ]
    }
   ],
   "source": [
    "#Building the Google Play Store Dictionary by creating a function\n",
    "\n",
    "def detect_duplicates(app_profile):\n",
    "    \n",
    "    max_reviews = {}\n",
    "\n",
    "    for app in app_profile:\n",
    "        name = app[0] # app name lies in the first column in the Google Play Store data set\n",
    "        n_reviews = float(app[3])\n",
    "        \n",
    "        if name in max_reviews and max_reviews[name] < n_reviews:\n",
    "            max_reviews[name] = n_reviews\n",
    "        elif name not in max_reviews: max_reviews[name] = n_reviews\n",
    "        \n",
    "    return max_reviews\n",
    "\n",
    "android_max_reviews = detect_duplicates(android)\n",
    "\n",
    "print('Length before cleaning:', len(android))\n",
    "print('Expected length:', len(android_unique_apps))\n",
    "print('Actual length:', len(android_max_reviews))"
   ]
  },
  {
   "cell_type": "markdown",
   "metadata": {},
   "source": [
    "The below steps are taken to remove duplicates:\n",
    "\n",
    "1. Create two lists: android_clean and android_added_names\n",
    "2. Create a 'for loop', for every iteration, the current row (app) to added the android_clean list, and the app name (name) to the android_added_names list when:\n",
    "    - The current row is not in the android_added_names list\n",
    "    - The rating column of the row does not mach the number of reviews of the application in android_max_reviews dictionary"
   ]
  },
  {
   "cell_type": "code",
   "execution_count": 305,
   "metadata": {},
   "outputs": [],
   "source": [
    "android_clean = list()\n",
    "android_added_names = list()\n",
    "\n",
    "for app in android:\n",
    "    name = app[0] # app name lies in the first column in the Google Play Store data set\n",
    "    n_reviews = float(app[3])\n",
    "    \n",
    "    if (name not in android_added_names) and (android_max_reviews[name] == n_reviews):\n",
    "        android_clean.append(app)\n",
    "        android_added_names.append(name) # copy the name to android_added_names list for cross checking"
   ]
  },
  {
   "cell_type": "code",
   "execution_count": 307,
   "metadata": {},
   "outputs": [
    {
     "name": "stdout",
     "output_type": "stream",
     "text": [
      "['App', 'Category', 'Rating', 'Reviews', 'Size', 'Installs', 'Type', 'Price', 'Content Rating', 'Genres', 'Last Updated', 'Current Ver', 'Android Ver']\n",
      "\n",
      "\n",
      "The first three rows of the cleaned Google Play Store file:\n",
      "\n",
      "\n",
      "['Photo Editor & Candy Camera & Grid & ScrapBook', 'ART_AND_DESIGN', '4.1', '159', '19M', '10,000+', 'Free', '0', 'Everyone', 'Art & Design', 'January 7, 2018', '1.0.0', '4.0.3 and up']\n",
      "\n",
      "\n",
      "['U Launcher Lite – FREE Live Cool Themes, Hide Apps', 'ART_AND_DESIGN', '4.7', '87510', '8.7M', '5,000,000+', 'Free', '0', 'Everyone', 'Art & Design', 'August 1, 2018', '1.2.4', '4.0.3 and up']\n",
      "\n",
      "\n",
      "['Sketch - Draw & Paint', 'ART_AND_DESIGN', '4.5', '215644', '25M', '50,000,000+', 'Free', '0', 'Teen', 'Art & Design', 'June 8, 2018', 'Varies with device', '4.2 and up']\n",
      "\n",
      "\n",
      "Number of rows: 9659\n",
      "Number of columns: 13\n"
     ]
    }
   ],
   "source": [
    "print(android_header)\n",
    "\n",
    "print('\\n')\n",
    "\n",
    "print('The first three rows of the cleaned Google Play Store file:')\n",
    "print('\\n')\n",
    "explore_data(android_clean, 0, 3, True)"
   ]
  },
  {
   "cell_type": "markdown",
   "metadata": {},
   "source": [
    "The number of rows in the cleaned Google Play Store is 9659 as expected."
   ]
  },
  {
   "cell_type": "markdown",
   "metadata": {},
   "source": [
    "#### 4.2.2 Part 2: Apple App Store Data Set"
   ]
  },
  {
   "cell_type": "markdown",
   "metadata": {},
   "source": [
    "Similar to the Google App Store data set, the Apple Store data set is being checked if there are any duplicates:"
   ]
  },
  {
   "cell_type": "code",
   "execution_count": 129,
   "metadata": {},
   "outputs": [
    {
     "name": "stdout",
     "output_type": "stream",
     "text": [
      "Number of duplicate apps: 2\n",
      "Examples of duplicate apps: ['Mannequin Challenge', 'VR Roller Coaster']\n"
     ]
    }
   ],
   "source": [
    "ios_duplicate_apps = list()\n",
    "ios_unique_apps = list()\n",
    "\n",
    "for app in ios:\n",
    "    name = app[1] #app name lies in the second column of the Apple Store data set\n",
    "    if name in ios_unique_apps:\n",
    "        ios_duplicate_apps.append(name)\n",
    "    else:\n",
    "        ios_unique_apps.append(name)\n",
    "\n",
    "print('Number of duplicate apps:', len(ios_duplicate_apps))\n",
    "print('Examples of duplicate apps:', ios_duplicate_apps[:15])"
   ]
  },
  {
   "cell_type": "code",
   "execution_count": 299,
   "metadata": {},
   "outputs": [
    {
     "name": "stdout",
     "output_type": "stream",
     "text": [
      "Details of the duplicated entries:\n",
      "\n",
      "\n",
      "['id', 'track_name', 'size_bytes', 'currency', 'price', 'rating_count_tot', 'rating_count_ver', 'user_rating', 'user_rating_ver', 'ver', 'cont_rating', 'prime_genre', 'sup_devices.num', 'ipadSc_urls.num', 'lang.num', 'vpp_lic']\n",
      "------------------------------------------------------------------\n",
      "['1173990889', 'Mannequin Challenge', '109705216', 'USD', '0.0', '668', '87', '3.0', '3.0', '1.4', '9+', 'Games', '37', '4', '1', '1']\n",
      "['952877179', 'VR Roller Coaster', '169523200', 'USD', '0.0', '107', '102', '3.5', '3.5', '2.0.0', '4+', 'Games', '37', '5', '1', '1']\n",
      "['1178454060', 'Mannequin Challenge', '59572224', 'USD', '0.0', '105', '58', '4.0', '4.5', '1.0.1', '4+', 'Games', '38', '5', '1', '1']\n",
      "['1089824278', 'VR Roller Coaster', '240964608', 'USD', '0.0', '67', '44', '3.5', '4.0', '0.81', '4+', 'Games', '38', '0', '1', '1']\n"
     ]
    }
   ],
   "source": [
    "print('Details of the duplicated entries:')\n",
    "print('\\n')\n",
    "print(ios_header)\n",
    "print('------------------------------------------------------------------')\n",
    "for row in ios:\n",
    "    name = row[1]\n",
    "    if name == 'Mannequin Challenge': print(row)\n",
    "    elif name == 'VR Roller Coaster': print(row)"
   ]
  },
  {
   "cell_type": "markdown",
   "metadata": {},
   "source": [
    "As described in the discussion session of the data set source (https://www.kaggle.com/ramamet4/app-store-apple-data-set-10k-apps/discussion/90409), the fours apps above are not duplicates. Therefore, these four entries will not be deleted and the length of this data set remains unchanged."
   ]
  },
  {
   "cell_type": "code",
   "execution_count": 87,
   "metadata": {},
   "outputs": [
    {
     "name": "stdout",
     "output_type": "stream",
     "text": [
      "Length of this data set: 7197\n"
     ]
    }
   ],
   "source": [
    "print('Length of this data set:', len(ios))"
   ]
  },
  {
   "cell_type": "markdown",
   "metadata": {},
   "source": [
    "The number of rows in the Apple Store data set remains unchanged. There are 7197 rows in this data set."
   ]
  },
  {
   "cell_type": "markdown",
   "metadata": {},
   "source": [
    "#### 4.3 Removing non-English Apps¶"
   ]
  },
  {
   "cell_type": "markdown",
   "metadata": {},
   "source": [
    "Since he goal of this project is to understand what type of apps are likely to attract more English-speaking audience on Google Play and the App Store, the non-English apps on the data set have to be removed. Below are the examples of non-English Apps in both data sets:"
   ]
  },
  {
   "cell_type": "code",
   "execution_count": 149,
   "metadata": {},
   "outputs": [
    {
     "name": "stdout",
     "output_type": "stream",
     "text": [
      "Examples from Google Play Data Set:\n",
      "- 中国語 AQリスニング\n",
      "- لعبة تقدر تربح DZ\n",
      "\n",
      "\n",
      "Examples from Apple Store Data Set:\n",
      "- 爱奇艺PPS -《欢乐颂2》电视剧热播\n",
      "- 20 Minutes.fr - l'actualité en continu\n"
     ]
    }
   ],
   "source": [
    "print('Examples from Google Play Data Set:')\n",
    "print('-', android_clean[4412][0])\n",
    "print('-', android_clean[7940][0])\n",
    "print('\\n')\n",
    "print('Examples from Apple Store Data Set:')\n",
    "print('-', ios[813][1])\n",
    "print('- 20 Minutes.fr - l\\'actualité en continu')"
   ]
  },
  {
   "cell_type": "markdown",
   "metadata": {},
   "source": [
    "Each character we use in a string has a corresponding number associated with it:"
   ]
  },
  {
   "cell_type": "code",
   "execution_count": 150,
   "metadata": {},
   "outputs": [
    {
     "name": "stdout",
     "output_type": "stream",
     "text": [
      "The corresponding number for character 'ス' is 12473\n",
      "The corresponding number for character 'ح' is 1581\n",
      "The corresponding number for character '爱' is 29233\n",
      "The corresponding number for character 'é' is 233\n",
      "The corresponding number for character 'a' is 97\n",
      "The corresponding number for character 'A' is 65\n"
     ]
    }
   ],
   "source": [
    "print('The corresponding number for character \\'ス\\' is', ord('ス'))\n",
    "print('The corresponding number for character \\'ح\\' is', ord('ح'))\n",
    "print('The corresponding number for character \\'爱\\' is', ord('爱'))\n",
    "print('The corresponding number for character \\'é\\' is', ord('é'))\n",
    "print('The corresponding number for character \\'a\\' is', ord('a'))\n",
    "print('The corresponding number for character \\'A\\' is', ord('A'))"
   ]
  },
  {
   "cell_type": "markdown",
   "metadata": {},
   "source": [
    "According to  ASCII (American Standard Code for Information Interchange), numbers corresponding to the characters we commonly use in an English text are all in the range 0 to 127. However, some of these Enlish applications have names wih emoji or symbols:"
   ]
  },
  {
   "cell_type": "code",
   "execution_count": 181,
   "metadata": {},
   "outputs": [
    {
     "name": "stdout",
     "output_type": "stream",
     "text": [
      "Examples from Google Play Data Set:\n",
      "- Instachat 😜\n",
      "- Kernel Manager for Franco Kernel ✨\n",
      "- Docs To Go™ Free Office Suite\n",
      "\n",
      "\n",
      "Examples from Apple Store Data Set:\n",
      "- Room Escape Game - Santa's Room\n",
      "- SuperCam_Pro\n"
     ]
    }
   ],
   "source": [
    "print('Examples from Google Play Data Set:')\n",
    "print('- Instachat 😜')\n",
    "print('- Kernel Manager for Franco Kernel ✨')\n",
    "print('- Docs To Go™ Free Office Suite')\n",
    "\n",
    "print('\\n')\n",
    "\n",
    "print('Examples from Apple Store Data Set:')\n",
    "print('- Room Escape Game - Santa\\'s Room')\n",
    "print('- SuperCam_Pro')"
   ]
  },
  {
   "cell_type": "markdown",
   "metadata": {},
   "source": [
    "Some of the corresponding number of these symbols are out of the 0 to 127 range:"
   ]
  },
  {
   "cell_type": "code",
   "execution_count": 266,
   "metadata": {},
   "outputs": [
    {
     "name": "stdout",
     "output_type": "stream",
     "text": [
      "The corresponding number for character '😜' is 128540\n",
      "The corresponding number for character '😍' is 128525\n",
      "The corresponding number for character '🔥' is 128293\n",
      "The corresponding number for character '✨' is 10024\n",
      "The corresponding number for character '【' is 12304\n",
      "The corresponding number for character '】' is 12305\n",
      "The corresponding number for character '♪' is 9834\n",
      "The corresponding number for character '♥' is 9829\n",
      "The corresponding number for character '–' is 8211\n",
      "The corresponding number for character '—' is 8212\n",
      "The corresponding number for character '™' is 8482\n",
      "The corresponding number for character '★' is 9733\n",
      "The corresponding number for character '’' is 8217\n",
      "The corresponding number for character '•' is 8226\n",
      "The corresponding number for character '®' is 174\n"
     ]
    }
   ],
   "source": [
    "print('The corresponding number for character \\'😜\\' is', ord('😜'))\n",
    "print('The corresponding number for character \\'😍\\' is', ord('😍'))\n",
    "print('The corresponding number for character \\'🔥\\' is', ord('🔥'))\n",
    "print('The corresponding number for character \\'✨\\' is', ord('✨'))\n",
    "print('The corresponding number for character \\'【\\' is', ord('【'))\n",
    "print('The corresponding number for character \\'】\\' is', ord('】'))\n",
    "print('The corresponding number for character \\'♪\\' is', ord('♪'))\n",
    "print('The corresponding number for character \\'♥\\' is', ord('♥'))\n",
    "print('The corresponding number for character \\'–\\' is', ord('–'))\n",
    "print('The corresponding number for character \\'—\\' is', ord('—'))\n",
    "print('The corresponding number for character \\'™\\' is', ord('™'))\n",
    "print('The corresponding number for character \\'★\\' is', ord('★'))\n",
    "print('The corresponding number for character \\'’\\' is', ord('’'))\n",
    "print('The corresponding number for character \\'•\\' is', ord('•'))\n",
    "print('The corresponding number for character \\'®\\' is', ord('®'))"
   ]
  },
  {
   "cell_type": "markdown",
   "metadata": {},
   "source": [
    "To minimize the impact of data loss, we will only remove an app if its name has more than three non-ASCII characters:"
   ]
  },
  {
   "cell_type": "code",
   "execution_count": 286,
   "metadata": {},
   "outputs": [
    {
     "name": "stdout",
     "output_type": "stream",
     "text": [
      "The function is_english will return as 'False' if name has more than three non-ASCII characters:\n",
      "Example 1: Docs To Go™ Free Office Suite: True\n",
      "Example 2: Instachat 😜: True\n",
      "Example 3: 爱奇艺PPS -《欢乐颂2》电视剧热播: False\n"
     ]
    }
   ],
   "source": [
    "def is_english(string):\n",
    "    non_ascii = 0\n",
    "    \n",
    "    for character in string:\n",
    "        if ord(character) > 127:\n",
    "            non_ascii += 1\n",
    "    \n",
    "    if non_ascii > 3:\n",
    "        return False\n",
    "    else:\n",
    "        return True\n",
    "\n",
    "print('The function is_english will return as \\'False\\' if name has more than three non-ASCII characters:')\n",
    "print('Example 1: Docs To Go™ Free Office Suite:', is_english('Docs To Go™ Free Office Suite'))\n",
    "print('Example 2: Instachat 😜:', is_english('Instachat 😜'))\n",
    "print('Example 3: 爱奇艺PPS -《欢乐颂2》电视剧热播:', is_english('爱奇艺PPS -《欢乐颂2》电视剧热播'))"
   ]
  },
  {
   "cell_type": "code",
   "execution_count": 301,
   "metadata": {},
   "outputs": [
    {
     "name": "stdout",
     "output_type": "stream",
     "text": [
      "Google Play Store Apps:\n",
      "['Photo Editor & Candy Camera & Grid & ScrapBook', 'ART_AND_DESIGN', '4.1', '159', '19M', '10,000+', 'Free', '0', 'Everyone', 'Art & Design', 'January 7, 2018', '1.0.0', '4.0.3 and up']\n",
      "\n",
      "\n",
      "['U Launcher Lite – FREE Live Cool Themes, Hide Apps', 'ART_AND_DESIGN', '4.7', '87510', '8.7M', '5,000,000+', 'Free', '0', 'Everyone', 'Art & Design', 'August 1, 2018', '1.2.4', '4.0.3 and up']\n",
      "\n",
      "\n",
      "['Sketch - Draw & Paint', 'ART_AND_DESIGN', '4.5', '215644', '25M', '50,000,000+', 'Free', '0', 'Teen', 'Art & Design', 'June 8, 2018', 'Varies with device', '4.2 and up']\n",
      "\n",
      "\n",
      "Number of rows: 9614\n",
      "Number of columns: 13\n",
      "------------------------------------------------------------------\n",
      "Apple Store Apps:\n",
      "['284882215', 'Facebook', '389879808', 'USD', '0.0', '2974676', '212', '3.5', '3.5', '95.0', '4+', 'Social Networking', '37', '1', '29', '1']\n",
      "\n",
      "\n",
      "['389801252', 'Instagram', '113954816', 'USD', '0.0', '2161558', '1289', '4.5', '4.0', '10.23', '12+', 'Photo & Video', '37', '0', '29', '1']\n",
      "\n",
      "\n",
      "['529479190', 'Clash of Clans', '116476928', 'USD', '0.0', '2130805', '579', '4.5', '4.5', '9.24.12', '9+', 'Games', '38', '5', '18', '1']\n",
      "\n",
      "\n",
      "Number of rows: 6183\n",
      "Number of columns: 16\n"
     ]
    }
   ],
   "source": [
    "android_english = []\n",
    "ios_english = []\n",
    "\n",
    "for app in android_clean:\n",
    "    name = app[0]\n",
    "    if is_english(name):\n",
    "        android_english.append(app)\n",
    "\n",
    "for app in ios:\n",
    "    name = app[1]\n",
    "    if is_english(name):\n",
    "        ios_english.append(app)\n",
    "\n",
    "print('Google Play Store Apps:')\n",
    "explore_data(android_english, 0, 3, True)\n",
    "print('------------------------------------------------------------------')\n",
    "print('Apple Store Apps:')\n",
    "explore_data(ios_english, 0, 3, True)"
   ]
  },
  {
   "cell_type": "markdown",
   "metadata": {},
   "source": [
    "#### 4.4 Removing Free Apps"
   ]
  },
  {
   "cell_type": "markdown",
   "metadata": {},
   "source": [
    "The purpose of this study is to understand what type of paid apps are likely to attract more English-speaking users on Google Play and the App Store. Therefore, free apps should be isolated."
   ]
  },
  {
   "cell_type": "code",
   "execution_count": 303,
   "metadata": {},
   "outputs": [
    {
     "name": "stdout",
     "output_type": "stream",
     "text": [
      "Number of Android apps: 8864\n",
      "Number of iOS apps: 3222\n"
     ]
    }
   ],
   "source": [
    "android_final = []\n",
    "ios_final = []\n",
    "\n",
    "for app in android_english:\n",
    "    price = app[7] # the price column \n",
    "    if price == '0':\n",
    "        android_final.append(app)\n",
    "        \n",
    "for app in ios_english:\n",
    "    price = app[4] # the price column \n",
    "    if price == '0.0':\n",
    "        ios_final.append(app)\n",
    "        \n",
    "print('Number of Android apps:', len(android_final))\n",
    "print('Number of iOS apps:', len(ios_final))"
   ]
  },
  {
   "cell_type": "markdown",
   "metadata": {},
   "source": [
    "After cleaning all data, the data sets contain 8864 Android and 3222 iOS apps information for this analysis."
   ]
  },
  {
   "cell_type": "markdown",
   "metadata": {},
   "source": [
    "## 5. Analysis"
   ]
  },
  {
   "cell_type": "markdown",
   "metadata": {},
   "source": [
    "### 5.1 Most Popular Apps by Genre"
   ]
  },
  {
   "cell_type": "markdown",
   "metadata": {},
   "source": [
    "#### 5.1.1 Breakdown of Google Play Store Data Set"
   ]
  },
  {
   "cell_type": "markdown",
   "metadata": {},
   "source": [
    "The Genres (index[-4]) and Category (index[1]) columns of the Google Play data set is similar in nature, a frequency table is generated for both columns to choose the best fit."
   ]
  },
  {
   "cell_type": "code",
   "execution_count": 325,
   "metadata": {},
   "outputs": [
    {
     "name": "stdout",
     "output_type": "stream",
     "text": [
      "Frequency Table generated by Genre column:\n",
      "Tools : 8.449909747292418\n",
      "Entertainment : 6.069494584837545\n",
      "Education : 5.347472924187725\n",
      "Business : 4.591606498194946\n",
      "Productivity : 3.892148014440433\n",
      "Lifestyle : 3.892148014440433\n",
      "Finance : 3.7003610108303246\n",
      "Medical : 3.531137184115524\n",
      "Sports : 3.463447653429603\n",
      "Personalization : 3.3167870036101084\n",
      "Communication : 3.2378158844765346\n",
      "Action : 3.1024368231046933\n",
      "Health & Fitness : 3.0798736462093865\n",
      "Photography : 2.944494584837545\n",
      "News & Magazines : 2.7978339350180503\n",
      "Social : 2.6624548736462095\n",
      "Travel & Local : 2.3240072202166067\n",
      "Shopping : 2.2450361010830324\n",
      "Books & Reference : 2.1435018050541514\n",
      "Simulation : 2.0419675090252705\n",
      "Dating : 1.861462093862816\n",
      "Arcade : 1.8501805054151623\n",
      "Video Players & Editors : 1.7712093862815883\n",
      "Casual : 1.7599277978339352\n",
      "Maps & Navigation : 1.3989169675090252\n",
      "Food & Drink : 1.2409747292418771\n",
      "Puzzle : 1.128158844765343\n",
      "Racing : 0.9927797833935018\n",
      "Role Playing : 0.9363718411552346\n",
      "Libraries & Demo : 0.9363718411552346\n",
      "Auto & Vehicles : 0.9250902527075812\n",
      "Strategy : 0.9138086642599278\n",
      "House & Home : 0.8235559566787004\n",
      "Weather : 0.8009927797833934\n",
      "Events : 0.7107400722021661\n",
      "Adventure : 0.6768953068592057\n",
      "Comics : 0.6092057761732852\n",
      "Beauty : 0.5979241877256317\n",
      "Art & Design : 0.5979241877256317\n",
      "Parenting : 0.4963898916967509\n",
      "Card : 0.45126353790613716\n",
      "Casino : 0.42870036101083037\n",
      "Trivia : 0.41741877256317694\n",
      "Educational;Education : 0.39485559566787\n",
      "Board : 0.3835740072202166\n",
      "Educational : 0.3722924187725632\n",
      "Education;Education : 0.33844765342960287\n",
      "Word : 0.2594765342960289\n",
      "Casual;Pretend Play : 0.236913357400722\n",
      "Music : 0.2030685920577617\n",
      "Racing;Action & Adventure : 0.16922382671480143\n",
      "Puzzle;Brain Games : 0.16922382671480143\n",
      "Entertainment;Music & Video : 0.16922382671480143\n",
      "Casual;Brain Games : 0.13537906137184114\n",
      "Casual;Action & Adventure : 0.13537906137184114\n",
      "Arcade;Action & Adventure : 0.12409747292418773\n",
      "Action;Action & Adventure : 0.10153429602888085\n",
      "Educational;Pretend Play : 0.09025270758122744\n",
      "Simulation;Action & Adventure : 0.078971119133574\n",
      "Parenting;Education : 0.078971119133574\n",
      "Entertainment;Brain Games : 0.078971119133574\n",
      "Board;Brain Games : 0.078971119133574\n",
      "Parenting;Music & Video : 0.06768953068592057\n",
      "Educational;Brain Games : 0.06768953068592057\n",
      "Casual;Creativity : 0.06768953068592057\n",
      "Art & Design;Creativity : 0.06768953068592057\n",
      "Education;Pretend Play : 0.056407942238267145\n",
      "Role Playing;Pretend Play : 0.04512635379061372\n",
      "Education;Creativity : 0.04512635379061372\n",
      "Role Playing;Action & Adventure : 0.033844765342960284\n",
      "Puzzle;Action & Adventure : 0.033844765342960284\n",
      "Entertainment;Creativity : 0.033844765342960284\n",
      "Entertainment;Action & Adventure : 0.033844765342960284\n",
      "Educational;Creativity : 0.033844765342960284\n",
      "Educational;Action & Adventure : 0.033844765342960284\n",
      "Education;Music & Video : 0.033844765342960284\n",
      "Education;Brain Games : 0.033844765342960284\n",
      "Education;Action & Adventure : 0.033844765342960284\n",
      "Adventure;Action & Adventure : 0.033844765342960284\n",
      "Video Players & Editors;Music & Video : 0.02256317689530686\n",
      "Sports;Action & Adventure : 0.02256317689530686\n",
      "Simulation;Pretend Play : 0.02256317689530686\n",
      "Puzzle;Creativity : 0.02256317689530686\n",
      "Music;Music & Video : 0.02256317689530686\n",
      "Entertainment;Pretend Play : 0.02256317689530686\n",
      "Casual;Education : 0.02256317689530686\n",
      "Board;Action & Adventure : 0.02256317689530686\n",
      "Video Players & Editors;Creativity : 0.01128158844765343\n",
      "Trivia;Education : 0.01128158844765343\n",
      "Travel & Local;Action & Adventure : 0.01128158844765343\n",
      "Tools;Education : 0.01128158844765343\n",
      "Strategy;Education : 0.01128158844765343\n",
      "Strategy;Creativity : 0.01128158844765343\n",
      "Strategy;Action & Adventure : 0.01128158844765343\n",
      "Simulation;Education : 0.01128158844765343\n",
      "Role Playing;Brain Games : 0.01128158844765343\n",
      "Racing;Pretend Play : 0.01128158844765343\n",
      "Puzzle;Education : 0.01128158844765343\n",
      "Parenting;Brain Games : 0.01128158844765343\n",
      "Music & Audio;Music & Video : 0.01128158844765343\n",
      "Lifestyle;Pretend Play : 0.01128158844765343\n",
      "Lifestyle;Education : 0.01128158844765343\n",
      "Health & Fitness;Education : 0.01128158844765343\n",
      "Health & Fitness;Action & Adventure : 0.01128158844765343\n",
      "Entertainment;Education : 0.01128158844765343\n",
      "Communication;Creativity : 0.01128158844765343\n",
      "Comics;Creativity : 0.01128158844765343\n",
      "Casual;Music & Video : 0.01128158844765343\n",
      "Card;Action & Adventure : 0.01128158844765343\n",
      "Books & Reference;Education : 0.01128158844765343\n",
      "Art & Design;Pretend Play : 0.01128158844765343\n",
      "Art & Design;Action & Adventure : 0.01128158844765343\n",
      "Arcade;Pretend Play : 0.01128158844765343\n",
      "Adventure;Education : 0.01128158844765343\n"
     ]
    }
   ],
   "source": [
    "print('Frequency Table generated by Genre column:')\n",
    "display_table(android_final, -4)"
   ]
  },
  {
   "cell_type": "code",
   "execution_count": 326,
   "metadata": {},
   "outputs": [
    {
     "name": "stdout",
     "output_type": "stream",
     "text": [
      "Frequency Table generated by Category column:\n",
      "FAMILY : 18.907942238267147\n",
      "GAME : 9.724729241877256\n",
      "TOOLS : 8.461191335740072\n",
      "BUSINESS : 4.591606498194946\n",
      "LIFESTYLE : 3.9034296028880866\n",
      "PRODUCTIVITY : 3.892148014440433\n",
      "FINANCE : 3.7003610108303246\n",
      "MEDICAL : 3.531137184115524\n",
      "SPORTS : 3.395758122743682\n",
      "PERSONALIZATION : 3.3167870036101084\n",
      "COMMUNICATION : 3.2378158844765346\n",
      "HEALTH_AND_FITNESS : 3.0798736462093865\n",
      "PHOTOGRAPHY : 2.944494584837545\n",
      "NEWS_AND_MAGAZINES : 2.7978339350180503\n",
      "SOCIAL : 2.6624548736462095\n",
      "TRAVEL_AND_LOCAL : 2.33528880866426\n",
      "SHOPPING : 2.2450361010830324\n",
      "BOOKS_AND_REFERENCE : 2.1435018050541514\n",
      "DATING : 1.861462093862816\n",
      "VIDEO_PLAYERS : 1.7937725631768955\n",
      "MAPS_AND_NAVIGATION : 1.3989169675090252\n",
      "FOOD_AND_DRINK : 1.2409747292418771\n",
      "EDUCATION : 1.1620036101083033\n",
      "ENTERTAINMENT : 0.9589350180505415\n",
      "LIBRARIES_AND_DEMO : 0.9363718411552346\n",
      "AUTO_AND_VEHICLES : 0.9250902527075812\n",
      "HOUSE_AND_HOME : 0.8235559566787004\n",
      "WEATHER : 0.8009927797833934\n",
      "EVENTS : 0.7107400722021661\n",
      "PARENTING : 0.6543321299638989\n",
      "ART_AND_DESIGN : 0.6430505415162455\n",
      "COMICS : 0.6204873646209386\n",
      "BEAUTY : 0.5979241877256317\n"
     ]
    }
   ],
   "source": [
    "print('Frequency Table generated by Category column:')\n",
    "display_table(android_final, 1)"
   ]
  },
  {
   "cell_type": "markdown",
   "metadata": {},
   "source": [
    "Looking into the Genres frequency table, the table displays more specific information. For example, Parenting apps are divided into 4 sub-genres:\n",
    "- Parenting: 0.4963898916967509\n",
    "- Parenting;Music & Video: 0.06768953068592057\n",
    "- Parenting;Education: 0.078971119133574\n",
    "- Parenting;Brain Games: 0.01128158844765343"
   ]
  },
  {
   "cell_type": "markdown",
   "metadata": {},
   "source": [
    "The Category frequency table, on the other hand, provides a more general view of the popularity based on app types. The categorisation of app type is also more similar to the Apple Store data set, common types includes:\n",
    "- Health & Fitness\n",
    "- Food & Drink\n",
    "- Finance\n",
    "- Education\n",
    "- Productivity"
   ]
  },
  {
   "cell_type": "markdown",
   "metadata": {},
   "source": [
    "Therefore, the Category frequency table will be used for representing the Android data set."
   ]
  },
  {
   "cell_type": "markdown",
   "metadata": {},
   "source": [
    "#### 5.1.2 Breakdown of Apple App Store Data Set"
   ]
  },
  {
   "cell_type": "markdown",
   "metadata": {},
   "source": [
    "This section illustrates the most common apps by genre in both Google Play Store and Apple Store. A frequency table will be generated from the prime_genre column of the App Store data set, as well as Genres and Category columns of the Google Play data set."
   ]
  },
  {
   "cell_type": "code",
   "execution_count": 443,
   "metadata": {},
   "outputs": [],
   "source": [
    "# function to generate frequency tables that show percentages\n",
    "def frequency_table(dataset, index):\n",
    "    table = {}\n",
    "    count = 0\n",
    "    \n",
    "    for row in dataset:\n",
    "        genre = row[index] # column that corresponds to genre\n",
    "        count += 1\n",
    "        if genre in table:\n",
    "            table[genre] += 1\n",
    "        else:\n",
    "            table[genre] = 1\n",
    "    \n",
    "    table_percentages = {}\n",
    "    \n",
    "    for key in table: # display data by percentage\n",
    "        percentage = (table[key] / count) * 100\n",
    "        table_percentages[key] = percentage \n",
    "    \n",
    "    return table_percentages\n",
    "\n",
    "# function to display the percentages in a descending order\n",
    "def display_table(dataset, index):\n",
    "    table = frequency_table(dataset, index)\n",
    "    table_display = []\n",
    "    for key in table:\n",
    "        key_val_as_tuple = (table[key], key)\n",
    "        table_display.append(key_val_as_tuple)\n",
    "        \n",
    "    table_sorted = sorted(table_display, reverse = True)\n",
    "    for entry in table_sorted:\n",
    "        print(entry[1], ':', entry[0])"
   ]
  },
  {
   "cell_type": "markdown",
   "metadata": {},
   "source": [
    "Below is the frequency table of App Store Data Set:"
   ]
  },
  {
   "cell_type": "code",
   "execution_count": 324,
   "metadata": {},
   "outputs": [
    {
     "name": "stdout",
     "output_type": "stream",
     "text": [
      "Games : 58.16263190564867\n",
      "Entertainment : 7.883302296710118\n",
      "Photo & Video : 4.9658597144630665\n",
      "Education : 3.662321539416512\n",
      "Social Networking : 3.2898820608317814\n",
      "Shopping : 2.60707635009311\n",
      "Utilities : 2.5139664804469275\n",
      "Sports : 2.1415270018621975\n",
      "Music : 2.0484171322160147\n",
      "Health & Fitness : 2.0173805090006205\n",
      "Productivity : 1.7380509000620732\n",
      "Lifestyle : 1.5828677839851024\n",
      "News : 1.3345747982619491\n",
      "Travel : 1.2414649286157666\n",
      "Finance : 1.1173184357541899\n",
      "Weather : 0.8690254500310366\n",
      "Food & Drink : 0.8069522036002483\n",
      "Reference : 0.5586592178770949\n",
      "Business : 0.5276225946617008\n",
      "Book : 0.4345127250155183\n",
      "Navigation : 0.186219739292365\n",
      "Medical : 0.186219739292365\n",
      "Catalogs : 0.12414649286157665\n"
     ]
    }
   ],
   "source": [
    "display_table(ios_final, -5)"
   ]
  },
  {
   "cell_type": "markdown",
   "metadata": {},
   "source": [
    "'Games' ranks first among the free English apps offered on Apple Store, contributing to approximately 60% of the chart. 'Entertainment', with a percentage close to 8%, is at the second place, followed by 'Photo & Video' which amount for almost 5%."
   ]
  },
  {
   "cell_type": "markdown",
   "metadata": {},
   "source": [
    "Most games available on Apple Store are designed for fun. 'Games', 'Entertainment' and 'Photo & Video' jointly take up 70% of free English apps in App Store. While productivity and practical apps, such as 'Education', 'Shopping', 'News', are less common."
   ]
  },
  {
   "cell_type": "markdown",
   "metadata": {},
   "source": [
    "From this data set, compared with Apple Store, Google Play offers a more diversed and balanced choice of applications. 'Games', 'Entertainment','Photography' and 'Video Players' only jointly take up 15% of free English apps."
   ]
  },
  {
   "cell_type": "markdown",
   "metadata": {},
   "source": [
    "### 5.2 Most Popular Type of Free Apps"
   ]
  },
  {
   "cell_type": "markdown",
   "metadata": {},
   "source": [
    "One of the methods to find out what genres are the most popular, i.e. have the most users, is to calculate the average number of installs for each app genre. For the Google Play data set, we could find this information in the 'Installs' column. However, this information is not available on the App Store data set. As a workaround, the total number of user ratings will be used. User ratings count could be found in the 'rating_count_tot' column."
   ]
  },
  {
   "cell_type": "markdown",
   "metadata": {},
   "source": [
    "#### 5.2.1 Number of Installs on Google Play Store"
   ]
  },
  {
   "cell_type": "markdown",
   "metadata": {},
   "source": [
    "The number of installs for an application is a good indicator of an app's popularity. However, the install numbers are not precise as the values are open-ended:"
   ]
  },
  {
   "cell_type": "code",
   "execution_count": 531,
   "metadata": {},
   "outputs": [],
   "source": [
    "install_range = list()\n",
    "\n",
    "for row in android_final:\n",
    "    install = row[5]\n",
    "    # numbers with commas and plus signs are converted to float\n",
    "    install = install.replace(',', '')\n",
    "    install = install.replace('+', '')\n",
    "    install = int(install)\n",
    "    if install not in install_range: install_range.append(install)\n",
    "\n",
    "install_range.sort(reverse=True)"
   ]
  },
  {
   "cell_type": "code",
   "execution_count": 532,
   "metadata": {},
   "outputs": [
    {
     "name": "stdout",
     "output_type": "stream",
     "text": [
      "1000000000 +\n",
      "500000000 +\n",
      "100000000 +\n",
      "50000000 +\n",
      "10000000 +\n",
      "5000000 +\n",
      "1000000 +\n",
      "500000 +\n",
      "100000 +\n",
      "50000 +\n",
      "10000 +\n",
      "5000 +\n",
      "1000 +\n",
      "500 +\n",
      "100 +\n",
      "50 +\n",
      "10 +\n",
      "5 +\n",
      "1 +\n",
      "0 +\n"
     ]
    }
   ],
   "source": [
    "for install in install_range:\n",
    "    print(install, '+')"
   ]
  },
  {
   "cell_type": "markdown",
   "metadata": {},
   "source": [
    "Since there is no recise data, the data will be rounded down. For example, for apps with 100,000+ installs will be considered as 100,000 installs, and apps with 1,000,000+ installs will equal to 1,000,000 installs."
   ]
  },
  {
   "cell_type": "markdown",
   "metadata": {},
   "source": [
    "Average installations for each category is as follows:"
   ]
  },
  {
   "cell_type": "code",
   "execution_count": 561,
   "metadata": {},
   "outputs": [
    {
     "data": {
      "text/plain": [
       "[('COMMUNICATION', 38456119.167247385),\n",
       " ('VIDEO_PLAYERS', 24727872.452830188),\n",
       " ('SOCIAL', 23253652.127118643),\n",
       " ('PHOTOGRAPHY', 17840110.40229885),\n",
       " ('PRODUCTIVITY', 16787331.344927534),\n",
       " ('GAME', 15588015.603248259),\n",
       " ('TRAVEL_AND_LOCAL', 13984077.710144928),\n",
       " ('ENTERTAINMENT', 11640705.88235294),\n",
       " ('TOOLS', 10801391.298666667),\n",
       " ('NEWS_AND_MAGAZINES', 9549178.467741935),\n",
       " ('BOOKS_AND_REFERENCE', 8767811.894736841),\n",
       " ('SHOPPING', 7036877.311557789),\n",
       " ('PERSONALIZATION', 5201482.6122448975),\n",
       " ('WEATHER', 5074486.197183099),\n",
       " ('HEALTH_AND_FITNESS', 4188821.9853479853),\n",
       " ('MAPS_AND_NAVIGATION', 4056941.7741935486),\n",
       " ('FAMILY', 3695641.8198090694),\n",
       " ('SPORTS', 3638640.1428571427),\n",
       " ('ART_AND_DESIGN', 1986335.0877192982),\n",
       " ('FOOD_AND_DRINK', 1924897.7363636363),\n",
       " ('EDUCATION', 1833495.145631068),\n",
       " ('BUSINESS', 1712290.1474201474),\n",
       " ('LIFESTYLE', 1437816.2687861272),\n",
       " ('FINANCE', 1387692.475609756),\n",
       " ('HOUSE_AND_HOME', 1331540.5616438356),\n",
       " ('DATING', 854028.8303030303),\n",
       " ('COMICS', 817657.2727272727),\n",
       " ('AUTO_AND_VEHICLES', 647317.8170731707),\n",
       " ('LIBRARIES_AND_DEMO', 638503.734939759),\n",
       " ('PARENTING', 542603.6206896552),\n",
       " ('BEAUTY', 513151.88679245283),\n",
       " ('EVENTS', 253542.22222222222),\n",
       " ('MEDICAL', 120550.61980830671)]"
      ]
     },
     "execution_count": 561,
     "metadata": {},
     "output_type": "execute_result"
    }
   ],
   "source": [
    "categories_android = frequency_table(android_final, 1) # create new list\n",
    "\n",
    "for category in categories_android:\n",
    "    total = 0 # total number of installations per category\n",
    "    category_count = 0 # number of categories\n",
    "    \n",
    "    total_installs = {}\n",
    "    category_count = {}\n",
    "    \n",
    "    for app in android_final:\n",
    "        category_app = app[1]\n",
    "        installs = app[5]\n",
    "        installs = installs.replace(',', '')\n",
    "        installs = installs.replace('+', '')\n",
    "        installs = float(installs)\n",
    "        \n",
    "        if category_app not in total_installs: \n",
    "            total_installs[category_app] = installs\n",
    "            category_count[category_app] = 1\n",
    "        else:\n",
    "            total_installs[category_app] += installs\n",
    "            category_count[category_app] += 1\n",
    "\n",
    "d1 = total_installs\n",
    "d2 = category_count\n",
    "d3 = {x:float(d1[x])/d2[x] for x in d2} # divide total installs of each genre by number of counts to get average rating\n",
    "\n",
    "\n",
    "# print dictionary in descending order by average ratings\n",
    "android_avg_installs = sorted(d3.items(), key=lambda x: x[1], reverse = True)\n",
    "android_avg_installs"
   ]
  },
  {
   "cell_type": "markdown",
   "metadata": {},
   "source": [
    "The top 3 installs categories in Android are:\n",
    "- Communication\n",
    "- Video players\n",
    "- Social"
   ]
  },
  {
   "cell_type": "code",
   "execution_count": 565,
   "metadata": {},
   "outputs": [
    {
     "name": "stdout",
     "output_type": "stream",
     "text": [
      "Breakdown of Communication Apps:\n",
      "- WhatsApp Messenger : 1,000,000,000+\n",
      "- imo beta free calls and text : 100,000,000+\n",
      "- Android Messages : 100,000,000+\n",
      "- Google Duo - High Quality Video Calls : 500,000,000+\n",
      "- Messenger – Text and Video Chat for Free : 1,000,000,000+\n",
      "- imo free video calls and chat : 500,000,000+\n",
      "- Skype - free IM & video calls : 1,000,000,000+\n",
      "- Who : 100,000,000+\n",
      "- GO SMS Pro - Messenger, Free Themes, Emoji : 100,000,000+\n",
      "- LINE: Free Calls & Messages : 500,000,000+\n",
      "- Google Chrome: Fast & Secure : 1,000,000,000+\n",
      "- Firefox Browser fast & private : 100,000,000+\n",
      "- UC Browser - Fast Download Private & Secure : 500,000,000+\n",
      "- Gmail : 1,000,000,000+\n",
      "- Hangouts : 1,000,000,000+\n",
      "- Messenger Lite: Free Calls & Messages : 100,000,000+\n",
      "- Kik : 100,000,000+\n",
      "- KakaoTalk: Free Calls & Text : 100,000,000+\n",
      "- Opera Mini - fast web browser : 100,000,000+\n",
      "- Opera Browser: Fast and Secure : 100,000,000+\n",
      "- Telegram : 100,000,000+\n",
      "- Truecaller: Caller ID, SMS spam blocking & Dialer : 100,000,000+\n",
      "- UC Browser Mini -Tiny Fast Private & Secure : 100,000,000+\n",
      "- Viber Messenger : 500,000,000+\n",
      "- WeChat : 100,000,000+\n",
      "- Yahoo Mail – Stay Organized : 100,000,000+\n",
      "- BBM - Free Calls & Messages : 100,000,000+\n"
     ]
    }
   ],
   "source": [
    "print('Breakdown of Communication Apps:')\n",
    "for app in android_final:\n",
    "    if app[1] == 'COMMUNICATION' and (app[5] == '1,000,000,000+'\n",
    "                                      or app[5] == '500,000,000+'\n",
    "                                      or app[5] == '100,000,000+'):\n",
    "        print('-', app[0], ':', app[5])"
   ]
  },
  {
   "cell_type": "markdown",
   "metadata": {},
   "source": [
    "Noticed from the above breakdown that the market is dominated by communication giants like WhatsApp Messenger, Gmail and LINE. If we remove all the communication apps that have over 100 million installs, the average would be reduced by around ten times:"
   ]
  },
  {
   "cell_type": "code",
   "execution_count": 577,
   "metadata": {},
   "outputs": [
    {
     "name": "stdout",
     "output_type": "stream",
     "text": [
      "Average installations for all Communication Apps: 38456119.167247385\n",
      "Average installations for Communication Apps having less than 100 million stalls: 3603485.3884615386\n"
     ]
    }
   ],
   "source": [
    "under_100_m = []\n",
    "\n",
    "for app in android_final:\n",
    "    n_installs = app[5]\n",
    "    n_installs = n_installs.replace(',', '')\n",
    "    n_installs = n_installs.replace('+', '')\n",
    "    if (app[1] == 'COMMUNICATION') and (float(n_installs) < 100000000):\n",
    "        under_100_m.append(float(n_installs))\n",
    "        \n",
    "avg_under_100_m = sum(under_100_m) / len(under_100_m)\n",
    "\n",
    "print('Average installations for all Communication Apps: 38456119.167247385')\n",
    "print('Average installations for Communication Apps having less than 100 million stalls:', avg_under_100_m)"
   ]
  },
  {
   "cell_type": "markdown",
   "metadata": {},
   "source": [
    "The same situation applies to Video Players as well, the average was reduced by approximately 4.5 times when market dominators like YouTube, Google Play Movies and Dubsmash are removed:"
   ]
  },
  {
   "cell_type": "code",
   "execution_count": 578,
   "metadata": {},
   "outputs": [
    {
     "name": "stdout",
     "output_type": "stream",
     "text": [
      "Breakdown of Video Players:\n",
      "- YouTube : 1,000,000,000+\n",
      "- Motorola Gallery : 100,000,000+\n",
      "- VLC for Android : 100,000,000+\n",
      "- Google Play Movies & TV : 1,000,000,000+\n",
      "- MX Player : 500,000,000+\n",
      "- Dubsmash : 100,000,000+\n",
      "- VivaVideo - Video Editor & Photo Movie : 100,000,000+\n",
      "- VideoShow-Video Editor, Video Maker, Beauty Camera : 100,000,000+\n",
      "- Motorola FM Radio : 100,000,000+\n"
     ]
    }
   ],
   "source": [
    "print('Breakdown of Video Players:')\n",
    "for app in android_final:\n",
    "    if app[1] == 'VIDEO_PLAYERS' and (app[5] == '1,000,000,000+'\n",
    "                                      or app[5] == '500,000,000+'\n",
    "                                      or app[5] == '100,000,000+'):\n",
    "        print('-', app[0], ':', app[5])"
   ]
  },
  {
   "cell_type": "code",
   "execution_count": 579,
   "metadata": {},
   "outputs": [
    {
     "name": "stdout",
     "output_type": "stream",
     "text": [
      "Average installations for all Video Players: 24727872.452830188\n",
      "Average installations for Video Players having less than 100 million stalls: 5544878.133333334\n"
     ]
    }
   ],
   "source": [
    "under_100_m = []\n",
    "\n",
    "for app in android_final:\n",
    "    n_installs = app[5]\n",
    "    n_installs = n_installs.replace(',', '')\n",
    "    n_installs = n_installs.replace('+', '')\n",
    "    if (app[1] == 'VIDEO_PLAYERS') and (float(n_installs) < 100000000):\n",
    "        under_100_m.append(float(n_installs))\n",
    "        \n",
    "avg_under_100_m = sum(under_100_m) / len(under_100_m)\n",
    "\n",
    "print('Average installations for all Video Players: 24727872.452830188')\n",
    "print('Average installations for Video Players having less than 100 million stalls:', avg_under_100_m)"
   ]
  },
  {
   "cell_type": "markdown",
   "metadata": {},
   "source": [
    "#### 5.2.2 Number of Ratings on Apple App Store"
   ]
  },
  {
   "cell_type": "markdown",
   "metadata": {},
   "source": [
    "Total number of ratings has been computed and sorted:"
   ]
  },
  {
   "cell_type": "code",
   "execution_count": 439,
   "metadata": {},
   "outputs": [],
   "source": [
    "def total_ios_rating(dataset): # accumulated ratings of each genre\n",
    "    table = {}\n",
    "    for row in dataset:\n",
    "        genre = row[-5]\n",
    "        rating = float(row[5])\n",
    "        if genre in table:\n",
    "            table[genre] += rating\n",
    "        else:\n",
    "            table[genre] = rating\n",
    "    return table\n",
    "    \n",
    "def ios_rating_count(dataset): # number of counts for each genre\n",
    "    table = {}\n",
    "    count = {}\n",
    "    for row in dataset:\n",
    "        genre = row[-5]\n",
    "        rating = float(row[5])\n",
    "        if genre in table:\n",
    "            table[genre] += rating\n",
    "            count[genre] += 1\n",
    "        else:\n",
    "            table[genre] = rating\n",
    "            count[genre] = 1\n",
    "    return count"
   ]
  },
  {
   "cell_type": "code",
   "execution_count": 440,
   "metadata": {},
   "outputs": [],
   "source": [
    "d1 = total_ios_rating(ios_final)\n",
    "d2 = ios_rating_count(ios_final)\n",
    "d3 = {x:float(d1[x])/d2[x] for x in d2} # divide accumulated ratings of each genre by number of counts to get average rating"
   ]
  },
  {
   "cell_type": "code",
   "execution_count": 441,
   "metadata": {},
   "outputs": [
    {
     "data": {
      "text/plain": [
       "[('Navigation', 86090.33333333333),\n",
       " ('Reference', 74942.11111111111),\n",
       " ('Social Networking', 71548.34905660378),\n",
       " ('Music', 57326.530303030304),\n",
       " ('Weather', 52279.892857142855),\n",
       " ('Book', 39758.5),\n",
       " ('Food & Drink', 33333.92307692308),\n",
       " ('Finance', 31467.944444444445),\n",
       " ('Photo & Video', 28441.54375),\n",
       " ('Travel', 28243.8),\n",
       " ('Shopping', 26919.690476190477),\n",
       " ('Health & Fitness', 23298.015384615384),\n",
       " ('Sports', 23008.898550724636),\n",
       " ('Games', 22788.6696905016),\n",
       " ('News', 21248.023255813954),\n",
       " ('Productivity', 21028.410714285714),\n",
       " ('Utilities', 18684.456790123455),\n",
       " ('Lifestyle', 16485.764705882353),\n",
       " ('Entertainment', 14029.830708661417),\n",
       " ('Business', 7491.117647058823),\n",
       " ('Education', 7003.983050847458),\n",
       " ('Catalogs', 4004.0),\n",
       " ('Medical', 612.0)]"
      ]
     },
     "execution_count": 441,
     "metadata": {},
     "output_type": "execute_result"
    }
   ],
   "source": [
    "# print dictionary in descending order by average ratings\n",
    "sorted_ios_avg_ratings = sorted(d3.items(), key=lambda x: x[1], reverse = True)\n",
    "sorted_ios_avg_ratings"
   ]
  },
  {
   "cell_type": "markdown",
   "metadata": {},
   "source": [
    "The top 3 reviews genres in Apple are:\n",
    "- Navigation\n",
    "- Reference\n",
    "- Social Networking"
   ]
  },
  {
   "cell_type": "code",
   "execution_count": 567,
   "metadata": {},
   "outputs": [
    {
     "name": "stdout",
     "output_type": "stream",
     "text": [
      "Breakdown of Navigation Apps:\n",
      "Waze - GPS Navigation, Maps & Real-time Traffic : 345046\n",
      "Google Maps - Navigation & Transit : 154911\n",
      "Geocaching® : 12811\n",
      "CoPilot GPS – Car Navigation & Offline Maps : 3582\n",
      "ImmobilienScout24: Real Estate Search in Germany : 187\n",
      "Railway Route Search : 5\n"
     ]
    }
   ],
   "source": [
    "print('Breakdown of Navigation Apps:')\n",
    "for app in ios_final:\n",
    "    if app[-5] == 'Navigation':\n",
    "        print(app[1], ':', app[5]) # print name and number of ratings"
   ]
  },
  {
   "cell_type": "code",
   "execution_count": 568,
   "metadata": {},
   "outputs": [
    {
     "name": "stdout",
     "output_type": "stream",
     "text": [
      "Breakdown of Reference Apps:\n",
      "Bible : 985920\n",
      "Dictionary.com Dictionary & Thesaurus : 200047\n",
      "Dictionary.com Dictionary & Thesaurus for iPad : 54175\n",
      "Google Translate : 26786\n",
      "Muslim Pro: Ramadan 2017 Prayer Times, Azan, Quran : 18418\n",
      "New Furniture Mods - Pocket Wiki & Game Tools for Minecraft PC Edition : 17588\n",
      "Merriam-Webster Dictionary : 16849\n",
      "Night Sky : 12122\n",
      "City Maps for Minecraft PE - The Best Maps for Minecraft Pocket Edition (MCPE) : 8535\n",
      "LUCKY BLOCK MOD ™ for Minecraft PC Edition - The Best Pocket Wiki & Mods Installer Tools : 4693\n",
      "GUNS MODS for Minecraft PC Edition - Mods Tools : 1497\n",
      "Guides for Pokémon GO - Pokemon GO News and Cheats : 826\n",
      "WWDC : 762\n",
      "Horror Maps for Minecraft PE - Download The Scariest Maps for Minecraft Pocket Edition (MCPE) Free : 718\n",
      "VPN Express : 14\n",
      "Real Bike Traffic Rider Virtual Reality Glasses : 8\n",
      "教えて!goo : 0\n",
      "Jishokun-Japanese English Dictionary & Translator : 0\n"
     ]
    }
   ],
   "source": [
    "print('Breakdown of Reference Apps:')\n",
    "for app in ios_final:\n",
    "    if app[-5] == 'Reference':\n",
    "        print(app[1], ':', app[5]) # print name and number of ratings"
   ]
  },
  {
   "cell_type": "code",
   "execution_count": 570,
   "metadata": {},
   "outputs": [
    {
     "name": "stdout",
     "output_type": "stream",
     "text": [
      "Breakdown of Social Networking Apps:\n",
      "Facebook : 2974676\n",
      "Pinterest : 1061624\n",
      "Skype for iPhone : 373519\n",
      "Messenger : 351466\n",
      "Tumblr : 334293\n",
      "WhatsApp Messenger : 287589\n",
      "Kik : 260965\n",
      "ooVoo – Free Video Call, Text and Voice : 177501\n",
      "TextNow - Unlimited Text + Calls : 164963\n",
      "Viber Messenger – Text & Call : 164249\n",
      "Followers - Social Analytics For Instagram : 112778\n",
      "MeetMe - Chat and Meet New People : 97072\n",
      "We Heart It - Fashion, wallpapers, quotes, tattoos : 90414\n",
      "InsTrack for Instagram - Analytics Plus More : 85535\n",
      "Tango - Free Video Call, Voice and Chat : 75412\n",
      "LinkedIn : 71856\n",
      "Match™ - #1 Dating App. : 60659\n",
      "Skype for iPad : 60163\n",
      "POF - Best Dating App for Conversations : 52642\n",
      "Timehop : 49510\n",
      "Find My Family, Friends & iPhone - Life360 Locator : 43877\n",
      "Whisper - Share, Express, Meet : 39819\n",
      "Hangouts : 36404\n",
      "LINE PLAY - Your Avatar World : 34677\n",
      "WeChat : 34584\n",
      "Badoo - Meet New People, Chat, Socialize. : 34428\n",
      "Followers + for Instagram - Follower Analytics : 28633\n",
      "GroupMe : 28260\n",
      "Marco Polo Video Walkie Talkie : 27662\n",
      "Miitomo : 23965\n",
      "SimSimi : 23530\n",
      "Grindr - Gay and same sex guys chat, meet and date : 23201\n",
      "Wishbone - Compare Anything : 20649\n",
      "imo video calls and chat : 18841\n",
      "After School - Funny Anonymous School News : 18482\n",
      "Quick Reposter - Repost, Regram and Reshare Photos : 17694\n",
      "Weibo HD : 16772\n",
      "Repost for Instagram : 15185\n",
      "Live.me – Live Video Chat & Make Friends Nearby : 14724\n",
      "Nextdoor : 14402\n",
      "Followers Analytics for Instagram - InstaReport : 13914\n",
      "YouNow: Live Stream Video Chat : 12079\n",
      "FollowMeter for Instagram - Followers Tracking : 11976\n",
      "LINE : 11437\n",
      "eHarmony™ Dating App - Meet Singles : 11124\n",
      "Discord - Chat for Gamers : 9152\n",
      "QQ : 9109\n",
      "Telegram Messenger : 7573\n",
      "Weibo : 7265\n",
      "Periscope - Live Video Streaming Around the World : 6062\n",
      "Chat for Whatsapp - iPad Version : 5060\n",
      "QQ HD : 5058\n",
      "Followers Analysis Tool For Instagram App Free : 4253\n",
      "live.ly - live video streaming : 4145\n",
      "Houseparty - Group Video Chat : 3991\n",
      "SOMA Messenger : 3232\n",
      "Monkey : 3060\n",
      "Down To Lunch : 2535\n",
      "Flinch - Video Chat Staring Contest : 2134\n",
      "Highrise - Your Avatar Community : 2011\n",
      "LOVOO - Dating Chat : 1985\n",
      "PlayStation®Messages : 1918\n",
      "BOO! - Video chat camera with filters & stickers : 1805\n",
      "Qzone : 1649\n",
      "Chatous - Chat with new people : 1609\n",
      "Kiwi - Q&A : 1538\n",
      "GhostCodes - a discovery app for Snapchat : 1313\n",
      "Jodel : 1193\n",
      "FireChat : 1037\n",
      "Google Duo - simple video calling : 1033\n",
      "Fiesta by Tango - Chat & Meet New People : 885\n",
      "Google Allo — smart messaging : 862\n",
      "Peach — share vividly : 727\n",
      "Hey! VINA - Where Women Meet New Friends : 719\n",
      "Battlefield™ Companion : 689\n",
      "All Devices for WhatsApp - Messenger for iPad : 682\n",
      "Chat for Pokemon Go - GoChat : 500\n",
      "IAmNaughty – Dating App to Meet New People Online : 463\n",
      "Qzone HD : 458\n",
      "Zenly - Locate your friends in realtime : 427\n",
      "League of Legends Friends : 420\n",
      "豆瓣 : 407\n",
      "Candid - Speak Your Mind Freely : 398\n",
      "知乎 : 397\n",
      "Selfeo : 366\n",
      "Fake-A-Location Free ™ : 354\n",
      "Popcorn Buzz - Free Group Calls : 281\n",
      "Fam — Group video calling for iMessage : 279\n",
      "QQ International : 274\n",
      "Ameba : 269\n",
      "SoundCloud Pulse: for creators : 240\n",
      "Tantan : 235\n",
      "Cougar Dating & Life Style App for Mature Women : 213\n",
      "Rawr Messenger - Dab your chat : 180\n",
      "WhenToPost: Best Time to Post Photos for Instagram : 158\n",
      "Inke—Broadcast an amazing life : 147\n",
      "Mustknow - anonymous video Q&A : 53\n",
      "CTFxCmoji : 39\n",
      "Lobi : 36\n",
      "Chain: Collaborate On MyVideo Story/Group Video : 35\n",
      "botman - Real time video chat : 7\n",
      "BestieBox : 0\n",
      "MATCH ON LINE chat : 0\n",
      "niconico ch : 0\n",
      "LINE BLOG : 0\n",
      "bit-tube - Live Stream Video Chat : 0\n"
     ]
    }
   ],
   "source": [
    "print('Breakdown of Social Networking Apps:')\n",
    "for app in ios_final:\n",
    "    if app[-5] == 'Social Networking':\n",
    "        print(app[1], ':', app[5]) # print name and number of ratings"
   ]
  },
  {
   "cell_type": "markdown",
   "metadata": {},
   "source": [
    "## 6. Recommendations"
   ]
  },
  {
   "cell_type": "markdown",
   "metadata": {},
   "source": [
    "Apple Store Genres ranking list:"
   ]
  },
  {
   "cell_type": "code",
   "execution_count": 580,
   "metadata": {},
   "outputs": [
    {
     "data": {
      "text/plain": [
       "[('Navigation', 86090.33333333333),\n",
       " ('Reference', 74942.11111111111),\n",
       " ('Social Networking', 71548.34905660378),\n",
       " ('Music', 57326.530303030304),\n",
       " ('Weather', 52279.892857142855),\n",
       " ('Book', 39758.5),\n",
       " ('Food & Drink', 33333.92307692308),\n",
       " ('Finance', 31467.944444444445),\n",
       " ('Photo & Video', 28441.54375),\n",
       " ('Travel', 28243.8),\n",
       " ('Shopping', 26919.690476190477),\n",
       " ('Health & Fitness', 23298.015384615384),\n",
       " ('Sports', 23008.898550724636),\n",
       " ('Games', 22788.6696905016),\n",
       " ('News', 21248.023255813954),\n",
       " ('Productivity', 21028.410714285714),\n",
       " ('Utilities', 18684.456790123455),\n",
       " ('Lifestyle', 16485.764705882353),\n",
       " ('Entertainment', 14029.830708661417),\n",
       " ('Business', 7491.117647058823),\n",
       " ('Education', 7003.983050847458),\n",
       " ('Catalogs', 4004.0),\n",
       " ('Medical', 612.0)]"
      ]
     },
     "execution_count": 580,
     "metadata": {},
     "output_type": "execute_result"
    }
   ],
   "source": [
    "sorted_ios_avg_ratings"
   ]
  },
  {
   "cell_type": "markdown",
   "metadata": {},
   "source": [
    "Looking into the genres on the Apple Store list, the first fours genres are already dominated by the market. Weather information is easily accessible via the Internet in this day and age, the possibility of generating revenues via in-app purchases for Weather apps are low. The next popular application in line is 'Book'."
   ]
  },
  {
   "cell_type": "code",
   "execution_count": 586,
   "metadata": {},
   "outputs": [
    {
     "name": "stdout",
     "output_type": "stream",
     "text": [
      "Breakdown of Books Genre:\n",
      "Kindle – Read eBooks, Magazines & Textbooks : 252076\n",
      "Audible – audio books, original series & podcasts : 105274\n",
      "Color Therapy Adult Coloring Book for Adults : 84062\n",
      "OverDrive – Library eBooks and Audiobooks : 65450\n",
      "HOOKED - Chat Stories : 47829\n",
      "BookShout: Read eBooks & Track Your Reading Goals : 879\n",
      "Dr. Seuss Treasury — 50 best kids books : 451\n",
      "Green Riding Hood : 392\n",
      "Weirdwood Manor : 197\n",
      "MangaZERO - comic reader : 9\n",
      "ikouhoushi : 0\n",
      "MangaTiara - love comic reader : 0\n",
      "謎解き : 0\n",
      "謎解き2016 : 0\n"
     ]
    }
   ],
   "source": [
    "print('Breakdown of Books Genre:')\n",
    "for app in ios_final:\n",
    "    if app[-5] == 'Book':\n",
    "        print(app[1], ':', app[5])"
   ]
  },
  {
   "cell_type": "markdown",
   "metadata": {},
   "source": [
    "The book genre's major player is Kindle and Audible. There is relatively less competition and seems potential for development. The selling point of these competitors are wide selection of ebooks and audio available. Therefore, we could offer something different from these two features to appeal to the audience, for example, speedreading. Nowadays people are very busy with their lives that some may not have time to read a 300-page best seller. Similar to book reviews, we could transform the knowledge from books to a 10 to 15-minute summary for target audience to digest."
   ]
  },
  {
   "cell_type": "raw",
   "metadata": {},
   "source": [
    "Google Play Store Categories list:"
   ]
  },
  {
   "cell_type": "code",
   "execution_count": 581,
   "metadata": {},
   "outputs": [
    {
     "data": {
      "text/plain": [
       "[('COMMUNICATION', 38456119.167247385),\n",
       " ('VIDEO_PLAYERS', 24727872.452830188),\n",
       " ('SOCIAL', 23253652.127118643),\n",
       " ('PHOTOGRAPHY', 17840110.40229885),\n",
       " ('PRODUCTIVITY', 16787331.344927534),\n",
       " ('GAME', 15588015.603248259),\n",
       " ('TRAVEL_AND_LOCAL', 13984077.710144928),\n",
       " ('ENTERTAINMENT', 11640705.88235294),\n",
       " ('TOOLS', 10801391.298666667),\n",
       " ('NEWS_AND_MAGAZINES', 9549178.467741935),\n",
       " ('BOOKS_AND_REFERENCE', 8767811.894736841),\n",
       " ('SHOPPING', 7036877.311557789),\n",
       " ('PERSONALIZATION', 5201482.6122448975),\n",
       " ('WEATHER', 5074486.197183099),\n",
       " ('HEALTH_AND_FITNESS', 4188821.9853479853),\n",
       " ('MAPS_AND_NAVIGATION', 4056941.7741935486),\n",
       " ('FAMILY', 3695641.8198090694),\n",
       " ('SPORTS', 3638640.1428571427),\n",
       " ('ART_AND_DESIGN', 1986335.0877192982),\n",
       " ('FOOD_AND_DRINK', 1924897.7363636363),\n",
       " ('EDUCATION', 1833495.145631068),\n",
       " ('BUSINESS', 1712290.1474201474),\n",
       " ('LIFESTYLE', 1437816.2687861272),\n",
       " ('FINANCE', 1387692.475609756),\n",
       " ('HOUSE_AND_HOME', 1331540.5616438356),\n",
       " ('DATING', 854028.8303030303),\n",
       " ('COMICS', 817657.2727272727),\n",
       " ('AUTO_AND_VEHICLES', 647317.8170731707),\n",
       " ('LIBRARIES_AND_DEMO', 638503.734939759),\n",
       " ('PARENTING', 542603.6206896552),\n",
       " ('BEAUTY', 513151.88679245283),\n",
       " ('EVENTS', 253542.22222222222),\n",
       " ('MEDICAL', 120550.61980830671)]"
      ]
     },
     "execution_count": 581,
     "metadata": {},
     "output_type": "execute_result"
    }
   ],
   "source": [
    "android_avg_installs"
   ]
  },
  {
   "cell_type": "markdown",
   "metadata": {},
   "source": [
    "Checking into the 'BOOKS_AND_REFERENCE' category, there are only 5 dominators in the industry."
   ]
  },
  {
   "cell_type": "code",
   "execution_count": 594,
   "metadata": {},
   "outputs": [
    {
     "name": "stdout",
     "output_type": "stream",
     "text": [
      "Popular Books and Reference:\n",
      "- Google Play Books : 1,000,000,000+\n",
      "- Bible : 100,000,000+\n",
      "- Amazon Kindle : 100,000,000+\n",
      "- Wattpad 📖 Free Books : 100,000,000+\n",
      "- Audiobooks from Audible : 100,000,000+\n"
     ]
    }
   ],
   "source": [
    "print('Popular Books and Reference:')\n",
    "for app in android_final:\n",
    "    if app[1] == 'BOOKS_AND_REFERENCE'and (app[5] == '1,000,000,000+'\n",
    "                                      or app[5] == '500,000,000+'\n",
    "                                      or app[5] == '100,000,000+'):\n",
    "        print('-', app[0], ':', app[5])"
   ]
  },
  {
   "cell_type": "markdown",
   "metadata": {},
   "source": [
    "Though there are many providers of books and references, the number of downloads for these apps are not vast."
   ]
  },
  {
   "cell_type": "code",
   "execution_count": 591,
   "metadata": {},
   "outputs": [
    {
     "name": "stdout",
     "output_type": "stream",
     "text": [
      "Breakdown of Books and Reference:\n",
      "- E-Book Read - Read Book for free : 50,000+\n",
      "- Download free book with green book : 100,000+\n",
      "- Wikipedia : 10,000,000+\n",
      "- Cool Reader : 10,000,000+\n",
      "- Free Panda Radio Music : 100,000+\n",
      "- Book store : 1,000,000+\n",
      "- FBReader: Favorite Book Reader : 10,000,000+\n",
      "- English Grammar Complete Handbook : 500,000+\n",
      "- Free Books - Spirit Fanfiction and Stories : 1,000,000+\n",
      "- Google Play Books : 1,000,000,000+\n",
      "- AlReader -any text book reader : 5,000,000+\n",
      "- Offline English Dictionary : 100,000+\n",
      "- Offline: English to Tagalog Dictionary : 500,000+\n",
      "- FamilySearch Tree : 1,000,000+\n",
      "- Cloud of Books : 1,000,000+\n",
      "- Recipes of Prophetic Medicine for free : 500,000+\n",
      "- ReadEra – free ebook reader : 1,000,000+\n",
      "- Anonymous caller detection : 10,000+\n",
      "- Ebook Reader : 5,000,000+\n",
      "- Litnet - E-books : 100,000+\n",
      "- Read books online : 5,000,000+\n",
      "- English to Urdu Dictionary : 500,000+\n",
      "- eBoox: book reader fb2 epub zip : 1,000,000+\n",
      "- English Persian Dictionary : 500,000+\n",
      "- Flybook : 500,000+\n",
      "- All Maths Formulas : 1,000,000+\n",
      "- Ancestry : 5,000,000+\n",
      "- HTC Help : 10,000,000+\n",
      "- English translation from Bengali : 100,000+\n",
      "- Pdf Book Download - Read Pdf Book : 100,000+\n",
      "- Free Book Reader : 100,000+\n",
      "- eBoox new: Reader for fb2 epub zip books : 50,000+\n",
      "- Only 30 days in English, the guideline is guaranteed : 500,000+\n",
      "- Moon+ Reader : 10,000,000+\n",
      "- SH-02J Owner's Manual (Android 8.0) : 50,000+\n",
      "- English-Myanmar Dictionary : 1,000,000+\n",
      "- Golden Dictionary (EN-AR) : 1,000,000+\n",
      "- All Language Translator Free : 1,000,000+\n",
      "- Azpen eReader : 500,000+\n",
      "- URBANO V 02 instruction manual : 100,000+\n",
      "- Bible : 100,000,000+\n",
      "- C Programs and Reference : 50,000+\n",
      "- C Offline Tutorial : 1,000+\n",
      "- C Programs Handbook : 50,000+\n",
      "- Amazon Kindle : 100,000,000+\n",
      "- Aab e Hayat Full Novel : 100,000+\n",
      "- Aldiko Book Reader : 10,000,000+\n",
      "- Google I/O 2018 : 500,000+\n",
      "- R Language Reference Guide : 10,000+\n",
      "- Learn R Programming Full : 5,000+\n",
      "- R Programing Offline Tutorial : 1,000+\n",
      "- Guide for R Programming : 5+\n",
      "- Learn R Programming : 10+\n",
      "- R Quick Reference Big Data : 1,000+\n",
      "- V Made : 100,000+\n",
      "- Wattpad 📖 Free Books : 100,000,000+\n",
      "- Dictionary - WordWeb : 5,000,000+\n",
      "- Guide (for X-MEN) : 100,000+\n",
      "- AC Air condition Troubleshoot,Repair,Maintenance : 5,000+\n",
      "- AE Bulletins : 1,000+\n",
      "- Ae Allah na Dai (Rasa) : 10,000+\n",
      "- 50000 Free eBooks & Free AudioBooks : 5,000,000+\n",
      "- Ag PhD Field Guide : 10,000+\n",
      "- Ag PhD Deficiencies : 10,000+\n",
      "- Ag PhD Planting Population Calculator : 1,000+\n",
      "- Ag PhD Soybean Diseases : 1,000+\n",
      "- Fertilizer Removal By Crop : 50,000+\n",
      "- A-J Media Vault : 50+\n",
      "- Al-Quran (Free) : 10,000,000+\n",
      "- Al Quran (Tafsir & by Word) : 500,000+\n",
      "- Al Quran Indonesia : 10,000,000+\n",
      "- Al'Quran Bahasa Indonesia : 10,000,000+\n",
      "- Al Quran Al karim : 1,000,000+\n",
      "- Al-Muhaffiz : 50,000+\n",
      "- Al Quran : EAlim - Translations & MP3 Offline : 5,000,000+\n",
      "- Al-Quran 30 Juz free copies : 500,000+\n",
      "- Koran Read &MP3 30 Juz Offline : 1,000,000+\n",
      "- Hafizi Quran 15 lines per page : 1,000,000+\n",
      "- Quran for Android : 10,000,000+\n",
      "- Surah Al-Waqiah : 100,000+\n",
      "- Hisnul Al Muslim - Hisn Invocations & Adhkaar : 100,000+\n",
      "- Satellite AR : 1,000,000+\n",
      "- Audiobooks from Audible : 100,000,000+\n",
      "- Kinot & Eichah for Tisha B'Av : 10,000+\n",
      "- AW Tozer Devotionals - Daily : 5,000+\n",
      "- Tozer Devotional -Series 1 : 1,000+\n",
      "- The Pursuit of God : 1,000+\n",
      "- AY Sing : 5,000+\n",
      "- Ay Hasnain k Nana Milad Naat : 10,000+\n",
      "- Ay Mohabbat Teri Khatir Novel : 10,000+\n",
      "- Arizona Statutes, ARS (AZ Law) : 1,000+\n",
      "- Oxford A-Z of English Usage : 1,000,000+\n",
      "- BD Fishpedia : 1,000+\n",
      "- BD All Sim Offer : 10,000+\n",
      "- Youboox - Livres, BD et magazines : 500,000+\n",
      "- B&H Kids AR : 10,000+\n",
      "- B y H Niños ES : 5,000+\n",
      "- Dictionary.com: Find Definitions for English Words : 10,000,000+\n",
      "- English Dictionary - Offline : 10,000,000+\n",
      "- Bible KJV : 5,000,000+\n",
      "- Borneo Bible, BM Bible : 10,000+\n",
      "- MOD Black for BM : 100+\n",
      "- BM Box : 1,000+\n",
      "- Anime Mod for BM : 100+\n",
      "- NOOK: Read eBooks & Magazines : 10,000,000+\n",
      "- NOOK Audiobooks : 500,000+\n",
      "- NOOK App for NOOK Devices : 500,000+\n",
      "- Browsery by Barnes & Noble : 5,000+\n",
      "- bp e-store : 1,000+\n",
      "- Brilliant Quotes: Life, Love, Family & Motivation : 1,000,000+\n",
      "- BR Ambedkar Biography & Quotes : 10,000+\n",
      "- BU Alsace : 100+\n",
      "- Catholic La Bu Zo Kam : 500+\n",
      "- Khrifa Hla Bu (Solfa) : 10+\n",
      "- Kristian Hla Bu : 10,000+\n",
      "- SA HLA BU : 1,000+\n",
      "- Learn SAP BW : 500+\n",
      "- Learn SAP BW on HANA : 500+\n",
      "- CA Laws 2018 (California Laws and Codes) : 5,000+\n",
      "- Bootable Methods(USB-CD-DVD) : 10,000+\n",
      "- cloudLibrary : 100,000+\n",
      "- SDA Collegiate Quarterly : 500+\n",
      "- Sabbath School : 100,000+\n",
      "- Cypress College Library : 100+\n",
      "- Stats Royale for Clash Royale : 1,000,000+\n",
      "- GATE 21 years CS Papers(2011-2018 Solved) : 50+\n",
      "- Learn CT Scan Of Head : 5,000+\n",
      "- Easy Cv maker 2018 : 10,000+\n",
      "- How to Write CV : 100,000+\n",
      "- CW Nuclear : 1,000+\n",
      "- CY Spray nozzle : 10+\n",
      "- BibleRead En Cy Zh Yue : 5+\n",
      "- CZ-Help : 5+\n",
      "- Modlitební knížka CZ : 500+\n",
      "- Guide for DB Xenoverse : 10,000+\n",
      "- Guide for DB Xenoverse 2 : 10,000+\n",
      "- Guide for IMS DB : 10+\n",
      "- DC HSEMA : 5,000+\n",
      "- DC Public Library : 1,000+\n",
      "- Painting Lulu DC Super Friends : 1,000+\n",
      "- Dictionary : 10,000,000+\n",
      "- Fix Error Google Playstore : 1,000+\n",
      "- D. H. Lawrence Poems FREE : 1,000+\n",
      "- Bilingual Dictionary Audio App : 5,000+\n",
      "- DM Screen : 10,000+\n",
      "- wikiHow: how to do anything : 1,000,000+\n",
      "- Dr. Doug's Tips : 1,000+\n",
      "- Bible du Semeur-BDS (French) : 50,000+\n",
      "- La citadelle du musulman : 50,000+\n",
      "- DV 2019 Entry Guide : 10,000+\n",
      "- DV 2019 - EDV Photo & Form : 50,000+\n",
      "- DV 2018 Winners Guide : 1,000+\n",
      "- EB Annual Meetings : 1,000+\n",
      "- EC - AP & Telangana : 5,000+\n",
      "- TN Patta Citta & EC : 10,000+\n",
      "- AP Stamps and Registration : 10,000+\n",
      "- CompactiMa EC pH Calibration : 100+\n",
      "- EGW Writings 2 : 100,000+\n",
      "- EGW Writings : 1,000,000+\n",
      "- Bible with EGW Comments : 100,000+\n",
      "- My Little Pony AR Guide : 1,000,000+\n",
      "- SDA Sabbath School Quarterly : 500,000+\n",
      "- Duaa Ek Ibaadat : 5,000+\n",
      "- Spanish English Translator : 10,000,000+\n",
      "- Dictionary - Merriam-Webster : 10,000,000+\n",
      "- JW Library : 10,000,000+\n",
      "- Oxford Dictionary of English : Free : 10,000,000+\n",
      "- English Hindi Dictionary : 10,000,000+\n",
      "- English to Hindi Dictionary : 5,000,000+\n",
      "- EP Research Service : 1,000+\n",
      "- Hymnes et Louanges : 100,000+\n",
      "- EU Charter : 1,000+\n",
      "- EU Data Protection : 1,000+\n",
      "- EU IP Codes : 100+\n",
      "- EW PDF : 5+\n",
      "- BakaReader EX : 100,000+\n",
      "- EZ Quran : 50,000+\n",
      "- FA Part 1 & 2 Past Papers Solved Free – Offline : 5,000+\n",
      "- La Fe de Jesus : 1,000+\n",
      "- La Fe de Jesús : 500+\n",
      "- Le Fe de Jesus : 500+\n",
      "- Florida - Pocket Brainbook : 1,000+\n",
      "- Florida Statutes (FL Code) : 1,000+\n",
      "- English To Shona Dictionary : 10,000+\n",
      "- Greek Bible FP (Audio) : 1,000+\n",
      "- Golden Dictionary (FR-AR) : 500,000+\n",
      "- Fanfic-FR : 5,000+\n",
      "- Bulgarian French Dictionary Fr : 10,000+\n",
      "- Chemin (fr) : 1,000+\n",
      "- The SCP Foundation DB fr nn5n : 1,000+\n"
     ]
    }
   ],
   "source": [
    "print('Breakdown of Books and Reference:')\n",
    "for app in android_final:\n",
    "    if app[1] == 'BOOKS_AND_REFERENCE':\n",
    "        print('-', app[0], ':', app[5])"
   ]
  },
  {
   "cell_type": "markdown",
   "metadata": {},
   "source": [
    "## 7. Conclusion"
   ]
  },
  {
   "cell_type": "markdown",
   "metadata": {},
   "source": [
    "In this project, we analyzed data about the App Store and Google Play mobile apps with the goal of recommending an app profile that can be profitable for both markets.\n",
    "\n",
    "\n",
    "Based on the findings, the recommended genre for development is a speedreading application in the 'Book' genre. This feature is realitively new and could avoid direct competitions with market dominators."
   ]
  }
 ],
 "metadata": {
  "kernelspec": {
   "display_name": "Python 3",
   "language": "python",
   "name": "python3"
  },
  "language_info": {
   "codemirror_mode": {
    "name": "ipython",
    "version": 3
   },
   "file_extension": ".py",
   "mimetype": "text/x-python",
   "name": "python",
   "nbconvert_exporter": "python",
   "pygments_lexer": "ipython3",
   "version": "3.7.1"
  }
 },
 "nbformat": 4,
 "nbformat_minor": 2
}
